{
 "cells": [
  {
   "cell_type": "markdown",
   "metadata": {},
   "source": [
    "# Heaps"
   ]
  },
  {
   "cell_type": "markdown",
   "metadata": {},
   "source": [
    "Heaps are useful in optimizing the insert, find min and delete min operations"
   ]
  },
  {
   "cell_type": "markdown",
   "metadata": {},
   "source": [
    "Heaps can be implemented as a binary tree"
   ]
  },
  {
   "cell_type": "markdown",
   "metadata": {},
   "source": [
    "Binary heaps are complete binary trees where each node has 2 child nodes and all the leaf nodes are as left as possible"
   ]
  },
  {
   "cell_type": "markdown",
   "metadata": {},
   "source": [
    "# Array Representation of a heap"
   ]
  },
  {
   "cell_type": "markdown",
   "metadata": {},
   "source": [
    "Heap can be represented as a array, where parent can be at ith index, its left child can be at 2*i +1 th index and its right child can be at 2*i +2 th index"
   ]
  },
  {
   "cell_type": "markdown",
   "metadata": {},
   "source": [
    "To get the parent node of any node, floor(i-1/2), will give the parent node"
   ]
  },
  {
   "cell_type": "markdown",
   "metadata": {},
   "source": [
    "Reason why complete binary tree is recommended is because otherwise we might end up an array with gaps"
   ]
  },
  {
   "cell_type": "markdown",
   "metadata": {},
   "source": [
    "# Properties of Complete Binary Tree"
   ]
  },
  {
   "cell_type": "markdown",
   "metadata": {},
   "source": [
    "<strong>Height of a node</strong> = Number of edges from a particular node to the longest possible leaf"
   ]
  },
  {
   "cell_type": "markdown",
   "metadata": {},
   "source": [
    "<strong>Height of a Tree</strong> = Height of the root node"
   ]
  },
  {
   "cell_type": "markdown",
   "metadata": {},
   "source": [
    "<strong>Given height of a tree, max number of nodes </strong> = 2<sup>h+1</sup>-1"
   ]
  },
  {
   "cell_type": "markdown",
   "metadata": {},
   "source": [
    "<strong>Given n nodes, minimum height of a tree</strong> = floor(log<sub>2</sub>n)"
   ]
  },
  {
   "cell_type": "markdown",
   "metadata": {},
   "source": [
    "# Build a heap"
   ]
  },
  {
   "cell_type": "markdown",
   "metadata": {},
   "source": [
    "One way is to sort the array in descending order(max heap), time for this will be nlogn"
   ]
  },
  {
   "cell_type": "markdown",
   "metadata": {},
   "source": [
    "Another Property of a complete binary tree is, The leaves start from floor(n/2) till n [with n being the size of the binary tree]. We are interested in finding the leaves because every leaf is a tree with 1 node. Each tree with 1 node is already a heap with either min heap property or max heap property"
   ]
  },
  {
   "cell_type": "markdown",
   "metadata": {},
   "source": [
    "Leaves are already a heap so we need to take the largest index which is a non leaf and start heapifying it"
   ]
  },
  {
   "cell_type": "code",
   "execution_count": 3,
   "metadata": {},
   "outputs": [
    {
     "name": "stdout",
     "output_type": "stream",
     "text": [
      "[12, 11, 10, 9, 5, 1, 3, 2]\n"
     ]
    }
   ],
   "source": [
    "#Building a maxheap using the array\n",
    "from math import floor\n",
    "\n",
    "def maxHeapify(arr,i):\n",
    "    heapsize=len(arr)\n",
    "    l=2*i+1\n",
    "    r=2*i+2\n",
    "    if l<heapsize and arr[i]<arr[l]:\n",
    "        largest=l\n",
    "    else:\n",
    "        largest=i\n",
    "    if r<heapsize and arr[r]>arr[largest]:\n",
    "        largest=r\n",
    "    if largest!=i:\n",
    "        arr[i],arr[largest]=arr[largest],arr[i]\n",
    "        maxHeapify(arr,largest)\n",
    "\n",
    "def buildHeap(arr,n):\n",
    "    for i in range(floor(n//2)-1,-1,-1):\n",
    "        maxHeapify(arr,i)\n",
    "\n",
    "if __name__ == '__main__':\n",
    "    arr=[9,5,10,11,12,1,3,2]\n",
    "    buildHeap(arr,len(arr))\n",
    "    print(arr)\n"
   ]
  },
  {
   "cell_type": "markdown",
   "metadata": {},
   "source": [
    "Space Complexity -> O(logn), (number of recursive calls made= number of levels (logn)), where n is the number of nodes in the subtree for which i is the root. So space complexity depends on where the maxHeapify is called"
   ]
  },
  {
   "cell_type": "markdown",
   "metadata": {},
   "source": [
    "Time Complexity-> O(n) (notes)"
   ]
  },
  {
   "cell_type": "markdown",
   "metadata": {},
   "source": [
    "Building a heap takes O(n) time and heapify takes O(logn) time"
   ]
  },
  {
   "cell_type": "code",
   "execution_count": null,
   "metadata": {},
   "outputs": [],
   "source": []
  }
 ],
 "metadata": {
  "kernelspec": {
   "display_name": "Python 3",
   "language": "python",
   "name": "python3"
  },
  "language_info": {
   "codemirror_mode": {
    "name": "ipython",
    "version": 3
   },
   "file_extension": ".py",
   "mimetype": "text/x-python",
   "name": "python",
   "nbconvert_exporter": "python",
   "pygments_lexer": "ipython3",
   "version": "3.7.6"
  }
 },
 "nbformat": 4,
 "nbformat_minor": 4
}
