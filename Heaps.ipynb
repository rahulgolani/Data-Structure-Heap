{
 "cells": [
  {
   "cell_type": "markdown",
   "metadata": {},
   "source": [
    "# Heaps"
   ]
  },
  {
   "cell_type": "markdown",
   "metadata": {},
   "source": [
    "Heaps are useful in optimizing the insert, find min and delete min operations"
   ]
  },
  {
   "cell_type": "markdown",
   "metadata": {},
   "source": [
    "Heaps can be implemented as a binary tree"
   ]
  },
  {
   "cell_type": "markdown",
   "metadata": {},
   "source": [
    "Binary heaps are complete binary trees where each node has 2 child nodes and all the leaf nodes are as left as possible"
   ]
  },
  {
   "cell_type": "markdown",
   "metadata": {},
   "source": [
    "# Array Representation of a heap"
   ]
  },
  {
   "cell_type": "markdown",
   "metadata": {},
   "source": [
    "Heap can be represented as a array, where parent can be at ith index, its left child can be at 2*i +1 th index and its right child can be at 2*i +2 th index"
   ]
  },
  {
   "cell_type": "markdown",
   "metadata": {},
   "source": [
    "To get the parent node of any node, floor(i-1/2), will give the parent node"
   ]
  },
  {
   "cell_type": "markdown",
   "metadata": {},
   "source": [
    "Reason why complete binary tree is recommended is because otherwise we might end up an array with gaps"
   ]
  },
  {
   "cell_type": "markdown",
   "metadata": {},
   "source": [
    "# Properties of Complete Binary Tree"
   ]
  },
  {
   "cell_type": "markdown",
   "metadata": {},
   "source": [
    "<strong>Height of a node</strong> = Number of edges from a particular node to the longest possible leaf"
   ]
  },
  {
   "cell_type": "markdown",
   "metadata": {},
   "source": [
    "<strong>Height of a Tree</strong> = Height of the root node"
   ]
  },
  {
   "cell_type": "markdown",
   "metadata": {},
   "source": [
    "<strong>Given height of a tree, max number of nodes </strong> = 2<sup>h+1</sup>-1"
   ]
  },
  {
   "cell_type": "markdown",
   "metadata": {},
   "source": [
    "<strong>Given n nodes, minimum height of a tree</strong> = floor(log<sub>2</sub>n)"
   ]
  },
  {
   "cell_type": "markdown",
   "metadata": {},
   "source": [
    "# Build a heap"
   ]
  },
  {
   "cell_type": "markdown",
   "metadata": {},
   "source": [
    "One way is to sort the array in descending order(max heap), time for this will be nlogn"
   ]
  },
  {
   "cell_type": "markdown",
   "metadata": {},
   "source": [
    "Another Property of a complete binary tree is, The leaves start from floor(n/2) till n [with n being the size of the binary tree]. We are interested in finding the leaves because every leaf is a tree with 1 node. Each tree with 1 node is already a heap with either min heap property or max heap property"
   ]
  },
  {
   "cell_type": "markdown",
   "metadata": {},
   "source": [
    "Leaves are already a heap so we need to take the largest index which is a non leaf and start heapifying it"
   ]
  },
  {
   "cell_type": "code",
   "execution_count": 3,
   "metadata": {},
   "outputs": [
    {
     "name": "stdout",
     "output_type": "stream",
     "text": [
      "[12, 11, 10, 9, 5, 1, 3, 2]\n"
     ]
    }
   ],
   "source": [
    "#Building a maxheap using the array\n",
    "from math import floor\n",
    "\n",
    "def maxHeapify(arr,i):\n",
    "    heapsize=len(arr)\n",
    "    l=2*i+1\n",
    "    r=2*i+2\n",
    "    if l<heapsize and arr[i]<arr[l]:\n",
    "        largest=l\n",
    "    else:\n",
    "        largest=i\n",
    "    if r<heapsize and arr[r]>arr[largest]:\n",
    "        largest=r\n",
    "    if largest!=i:\n",
    "        arr[i],arr[largest]=arr[largest],arr[i]\n",
    "        maxHeapify(arr,largest)\n",
    "\n",
    "def buildHeap(arr,n):\n",
    "    for i in range(floor(n//2)-1,-1,-1):\n",
    "        maxHeapify(arr,i)\n",
    "\n",
    "if __name__ == '__main__':\n",
    "    arr=[9,5,10,11,12,1,3,2]\n",
    "    buildHeap(arr,len(arr))\n",
    "    print(arr)\n"
   ]
  },
  {
   "cell_type": "markdown",
   "metadata": {},
   "source": [
    "Space Complexity -> O(logn), (number of recursive calls made= number of levels (logn)), where n is the number of nodes in the subtree for which i is the root. So space complexity depends on where the maxHeapify is called"
   ]
  },
  {
   "cell_type": "markdown",
   "metadata": {},
   "source": [
    "Time Complexity-> O(n) (notes) <strong>TODO</strong>"
   ]
  },
  {
   "cell_type": "markdown",
   "metadata": {},
   "source": [
    "Building a heap takes O(n) time and heapify takes O(logn) time"
   ]
  },
  {
   "cell_type": "markdown",
   "metadata": {},
   "source": [
    "<pre>\n",
    "Heaps can be of two types:\n",
    "\n",
    "<strong>Max-Heap:</strong> In a Max-Heap the key present at the root node must be greatest among the keys present at all of it’s children. The same property must be recursively true for all sub-trees in that Binary Tree.\n",
    "\n",
    "<strong>Min-Heap:</strong> In a Min-Heap the key present at the root node must be minimum among the keys present at all of it’s children. The same property must be recursively true for all sub-trees in that Binary Tree.\n",
    "</pre>"
   ]
  },
  {
   "cell_type": "markdown",
   "metadata": {},
   "source": [
    "The traversal method use to achieve Array representation is Level Order"
   ]
  },
  {
   "cell_type": "markdown",
   "metadata": {},
   "source": [
    "# Applications of Heaps:"
   ]
  },
  {
   "cell_type": "markdown",
   "metadata": {},
   "source": [
    "Heap Sort-> Uses binary heap to sort the array in O(nlogn) time"
   ]
  },
  {
   "cell_type": "markdown",
   "metadata": {},
   "source": [
    "Priority Queue: Priority queues can be efficiently implemented using Binary Heap because it supports insert(), delete() and extractmax(), decreaseKey() operations in O(logn) time. Binomoial Heap and Fibonacci Heap are variations of Binary Heap. These variations perform union also efficiently."
   ]
  },
  {
   "cell_type": "markdown",
   "metadata": {},
   "source": [
    "Graph Algorithms: The priority queues are especially used in Graph Algorithms like Dijkstra’s Shortest Path and Prim’s Minimum Spanning Tree."
   ]
  },
  {
   "cell_type": "markdown",
   "metadata": {},
   "source": [
    "Order Statistics"
   ]
  },
  {
   "cell_type": "markdown",
   "metadata": {},
   "source": [
    "# Operations on Min Heap:"
   ]
  },
  {
   "cell_type": "markdown",
   "metadata": {},
   "source": [
    "getMini(): It returns the root element of Min Heap. Time Complexity of this operation is O(1)."
   ]
  },
  {
   "cell_type": "markdown",
   "metadata": {},
   "source": [
    "extractMin(): Removes the minimum element from MinHeap. Time Complexity of this Operation is O(Logn) as this operation needs to maintain the heap property (by calling heapify()) after removing root."
   ]
  },
  {
   "cell_type": "markdown",
   "metadata": {},
   "source": [
    "decreaseKey(): Decreases value of key. The time complexity of this operation is O(Logn). If the decreases key value of a node is greater than the parent of the node, then we don’t need to do anything. Otherwise, we need to traverse up to fix the violated heap property."
   ]
  },
  {
   "cell_type": "markdown",
   "metadata": {},
   "source": [
    "insert(): Inserting a new key takes O(Logn) time. We add a new key at the end of the tree. IF new key is greater than its parent, then we don’t need to do anything. Otherwise, we need to traverse up to fix the violated heap property."
   ]
  },
  {
   "cell_type": "markdown",
   "metadata": {},
   "source": [
    "delete(): Deleting a key also takes O(Logn) time. We replace the key to be deleted with minum infinite by calling decreaseKey(). After decreaseKey(), the minus infinite value must reach root, so we call extractMin() to remove the key."
   ]
  },
  {
   "cell_type": "code",
   "execution_count": 5,
   "metadata": {},
   "outputs": [
    {
     "name": "stdout",
     "output_type": "stream",
     "text": [
      "[0, 1, 10, 9, 5]\n"
     ]
    }
   ],
   "source": [
    "from heapq import heapify,heappop,heappush\n",
    "\n",
    "class MinHeap:\n",
    "    def __init__(self):\n",
    "        self.heap=[]\n",
    "        heapify(self.heap)\n",
    "\n",
    "    def getMin(self):\n",
    "        return self.heap[0]\n",
    "\n",
    "    def insertKey(self,item):\n",
    "        heappush(self.heap,item)\n",
    "\n",
    "    def parent(self,i):\n",
    "        return (i-1)//2\n",
    "\n",
    "    def extractMin(self):\n",
    "        return heappop(self.heap)\n",
    "\n",
    "    def decreaseKey(self,i,newVal):\n",
    "        self.heap[i]=newVal\n",
    "        while (i!=0 and self.heap[self.parent(i)]>self.heap[i]):\n",
    "            parent=self.parent(i)\n",
    "            self.heap[i],self.heap[self.parent(i)]=(self.heap[self.parent(i)],self.heap[i])\n",
    "            i=parent\n",
    "        #heapify(self.heap)\n",
    "\n",
    "    def deleteKey(self,i):\n",
    "        self.decreaseKey(i,float('-infinity'))\n",
    "        #print(self.heap)\n",
    "        self.extractMin()\n",
    "\n",
    "if __name__ == '__main__':\n",
    "    heapObj=MinHeap()\n",
    "    heapObj.insertKey(1)\n",
    "    heapObj.insertKey(9)\n",
    "    heapObj.insertKey(10)\n",
    "    heapObj.insertKey(5)\n",
    "    heapObj.insertKey(200)\n",
    "    # print(heapObj.heap)\n",
    "    heapObj.decreaseKey(4,0)\n",
    "    # heapObj.deleteKey(2)\n",
    "    #print(heapObj.getMin())\n",
    "    #print(heapObj.heap)\n",
    "    print(heapObj.heap)\n"
   ]
  },
  {
   "cell_type": "markdown",
   "metadata": {},
   "source": [
    "# Binomial Heap"
   ]
  },
  {
   "cell_type": "markdown",
   "metadata": {},
   "source": [
    "The main application of Binary Heap is in implementing priority queue."
   ]
  },
  {
   "cell_type": "markdown",
   "metadata": {},
   "source": [
    "Binomial Heap is an extension of Binary Heap that provides faster union or merge operation together with other operations provided by Binary Heap."
   ]
  },
  {
   "cell_type": "markdown",
   "metadata": {},
   "source": [
    "A Binomial Heap is a collection of Binomial Trees"
   ]
  },
  {
   "cell_type": "markdown",
   "metadata": {},
   "source": [
    "<pre>\n",
    "What is a Binomial Tree?\n",
    "A Binomial Tree of order 0 has 1 node. A Binomial Tree of order k can be constructed by taking two binomial trees of order k-1 and making one as leftmost child or other.\n",
    "A Binomial Tree of order k has following properties.\n",
    "a) It has exactly 2^k nodes.\n",
    "b) It has depth as k.\n",
    "c) There are exactly kCi nodes at depth i for i = 0, 1, . . . , k.\n",
    "d) The root has degree k and children of root are themselves Binomial Trees with order k-1, k-2,.. 0 from left to right.\n",
    "</pre>"
   ]
  },
  {
   "cell_type": "markdown",
   "metadata": {},
   "source": [
    "<pre>\n",
    "k = 0 (Single Node)\n",
    "\n",
    " o\n",
    "\n",
    "k = 1 (2 nodes) \n",
    "[We take two k = 0 order Binomial Trees, and\n",
    "make one as child of other]\n",
    " o\n",
    "   \\\n",
    "     o\n",
    "\n",
    "k = 2 (4 nodes)\n",
    "[We take two k = 1 order Binomial Trees, and\n",
    "make one as child of other]\n",
    "   o\n",
    " /   \\\n",
    "o     o\n",
    "       \\\n",
    "        o\n",
    "\n",
    "k = 3 (8 nodes)\n",
    "[We take two k = 2 order Binomial Trees, and\n",
    "make one as child of other]\n",
    "    o   \n",
    " /  |  \\ \n",
    "o   o    o\n",
    "    |   /  \\\n",
    "    o  o    o\n",
    "             \\\n",
    "              o\n",
    "</pre>"
   ]
  },
  {
   "cell_type": "markdown",
   "metadata": {},
   "source": [
    "<strong>Binomial Heap</strong>"
   ]
  },
  {
   "cell_type": "markdown",
   "metadata": {},
   "source": [
    "A Binomial Heap is a set of Binomial Trees where each Binomial Tree follows Min Heap property. And there can be at most one Binomial Tree of any degree."
   ]
  },
  {
   "cell_type": "markdown",
   "metadata": {},
   "source": [
    "<pre>\n",
    "12------------10--------------------20\n",
    "             /  \\                 /  | \\\n",
    "           15    50             70  50  40\n",
    "           |                  / |    |     \n",
    "           30               80  85  65 \n",
    "                            |\n",
    "                           100\n",
    "A Binomial Heap with 13 nodes. It is a collection of 3 \n",
    "Binomial Trees of orders 0, 2 and 3 from left to right. \n",
    "</pre>"
   ]
  },
  {
   "cell_type": "markdown",
   "metadata": {},
   "source": [
    "<strong>Binary Representation of a number and Binomial Heaps</strong>\n",
    "\n",
    "A Binomial Heap with n nodes has the number of Binomial Trees equal to the number of set bits in the Binary representation of n. For example let n be 13, there 3 set bits in the binary representation of n (00001101), hence 3 Binomial Trees. We can also relate the degree of these Binomial Trees with positions of set bits. With this relation, we can conclude that there are O(Logn) Binomial Trees in a Binomial Heap with ‘n’ nodes."
   ]
  },
  {
   "cell_type": "markdown",
   "metadata": {},
   "source": [
    "<strong>Operations of Binomial Heap</strong>"
   ]
  },
  {
   "cell_type": "markdown",
   "metadata": {},
   "source": [
    "The main operation in Binomial Heap is union(), all other operations mainly use this operation. The union() operation is to combine two Binomial Heaps into one."
   ]
  },
  {
   "cell_type": "markdown",
   "metadata": {},
   "source": [
    "insert(H, k): Inserts a key ‘k’ to Binomial Heap ‘H’. This operation first creates a Binomial Heap with single key ‘k’, then calls union on H and the new Binomial heap."
   ]
  },
  {
   "cell_type": "markdown",
   "metadata": {},
   "source": [
    "getMin(H): A simple way to getMin() is to traverse the list of root of Binomial Trees and return the minimum key. This implementation requires O(Logn) time(because there will be logn binomial trees for n nodes, so total logn nodes to be checked). It can be optimized to O(1) by maintaining a pointer to minimum key root."
   ]
  },
  {
   "cell_type": "markdown",
   "metadata": {},
   "source": [
    "extractMin(H): This operation also uses union(). We first call getMin() to find the minimum key Binomial Tree, then we remove the node and create a new Binomial Heap by connecting all subtrees of the removed minimum node. Finally, we call union() on H and the newly created Binomial Heap. This operation requires O(Logn) time."
   ]
  },
  {
   "cell_type": "markdown",
   "metadata": {},
   "source": [
    "delete(H): Like Binary Heap, delete operation first reduces the key to minus infinite, then calls extractMin()."
   ]
  },
  {
   "cell_type": "markdown",
   "metadata": {},
   "source": [
    "decreaseKey(H): decreaseKey() is also similar to Binary Heap. We compare the decreases key with it parent and if parent’s key is more, we swap keys and recur for the parent. We stop when we either reach a node whose parent has a smaller key or we hit the root node. Time complexity of decreaseKey() is O(Logn)."
   ]
  },
  {
   "cell_type": "markdown",
   "metadata": {},
   "source": [
    "<strong>Union operation in Binomial Heap</strong>"
   ]
  },
  {
   "cell_type": "markdown",
   "metadata": {},
   "source": [
    "<pre>\n",
    "Given two Binomial Heaps H1 and H2, union(H1, H2) creates a single Binomial Heap.\n",
    "\n",
    "1) The first step is to simply merge the two Heaps in non-decreasing order of degrees. In the following diagram, figure(b) shows the result after merging.\n",
    "\n",
    "2) After the simple merge, we need to make sure that there is at most one Binomial Tree of any order. To do this, we need to combine Binomial Trees of the same order. We traverse the list of merged roots, we keep track of three-pointers, prev, x and next-x. There can be following 4 cases when we traverse the list of roots.\n",
    "—–Case 1: Orders of x and next-x are not same, we simply move ahead.\n",
    "In following 3 cases orders of x and next-x are same.\n",
    "—–Case 2: If the order of next-next-x is also same, move ahead.\n",
    "—–Case 3: If the key of x is smaller than or equal to the key of next-x, then make next-x as a child of x by linking it with x.\n",
    "—–Case 4: If the key of x is greater, then make x as the child of next.\n",
    "</pre>"
   ]
  },
  {
   "cell_type": "markdown",
   "metadata": {},
   "source": [
    "![](https://media.geeksforgeeks.org/wp-content/uploads/Bionomial_tree_2.png)"
   ]
  },
  {
   "cell_type": "markdown",
   "metadata": {},
   "source": [
    "# Fibonacci Heap"
   ]
  },
  {
   "cell_type": "markdown",
   "metadata": {},
   "source": [
    "In terms of Time Complexity, Fibonacci Heap beats both Binary and Binomial Heaps."
   ]
  },
  {
   "cell_type": "markdown",
   "metadata": {},
   "source": [
    "<pre>\n",
    "1) Find Min:      Θ(1)     [Same as both Binary and Binomial]\n",
    "2) Delete Min:    O(Log n) [Θ(Log n) in both Binary and Binomial]\n",
    "3) Insert:        Θ(1)     [Θ(Log n) in Binary and Θ(1) in Binomial]\n",
    "4) Decrease-Key:  Θ(1)     [Θ(Log n) in both Binary and Binomial]\n",
    "5) Merge:         Θ(1)     [Θ(m Log n) or Θ(m+n) in Binary and\n",
    "                            Θ(Log n) in Binomial]\n",
    "</pre>"
   ]
  },
  {
   "cell_type": "markdown",
   "metadata": {},
   "source": [
    "Like Binomial Heap, Fibonacci Heap is a collection of trees with min-heap or max-heap property. In Fibonacci Heap, trees can can have any shape even all trees can be single nodes (This is unlike Binomial Heap where every tree has to be Binomial Tree)."
   ]
  },
  {
   "cell_type": "markdown",
   "metadata": {},
   "source": [
    "![](https://media.geeksforgeeks.org/wp-content/uploads/Fibonacci-Heap.png)"
   ]
  },
  {
   "cell_type": "markdown",
   "metadata": {},
   "source": [
    "Fibonacci Heap maintains a pointer to minimum value (which is root of a tree). All tree roots are connected using circular doubly linked list, so all of them can be accessed using single ‘min’ pointer."
   ]
  },
  {
   "cell_type": "markdown",
   "metadata": {},
   "source": [
    "<pre>\n",
    "Facts about Fibonacci Heap\n",
    "\n",
    "The reduced time complexity of Decrease-Key has importance in Dijkstra and Prim algorithms. With Binary Heap, time complexity of these algorithms is O(VLogV + ELogV). If Fibonacci Heap is used, then time complexity is improved to O(VLogV + E)\n",
    "\n",
    "Although Fibonacci Heap looks promising time complexity wise, it has been found slow in practice as hidden constants are high.\n",
    "\n",
    "Fibonacci heap are mainly called so because Fibonacci numbers are used in the running time analysis. Also, every node in Fibonacci Heap has degree at most O(log n) and the size of a subtree rooted in a node of degree k is at least Fk+2, where Fk is the kth Fibonacci number.\n",
    "</pre>"
   ]
  },
  {
   "cell_type": "markdown",
   "metadata": {},
   "source": [
    "# Leftist Tree / Leftist Heap"
   ]
  },
  {
   "cell_type": "markdown",
   "metadata": {},
   "source": [
    "# K-ary Heap"
   ]
  },
  {
   "cell_type": "markdown",
   "metadata": {},
   "source": [
    "# HeapSort"
   ]
  },
  {
   "cell_type": "code",
   "execution_count": 11,
   "metadata": {},
   "outputs": [
    {
     "name": "stdout",
     "output_type": "stream",
     "text": [
      "[5, 6, 7, 11, 12, 13]\n"
     ]
    }
   ],
   "source": [
    "from math import floor\n",
    "\n",
    "def maxHeapify(arr,n,i):\n",
    "    left=2*i+1\n",
    "    right=2*i+2\n",
    "    if left<n and arr[i]<arr[left]:\n",
    "        largest=left\n",
    "    else:\n",
    "        largest=i\n",
    "    if right<n and arr[right]>arr[largest]:\n",
    "        largest=right\n",
    "    if largest!=i:\n",
    "        arr[largest],arr[i]=arr[i],arr[largest]\n",
    "        maxHeapify(arr,n,largest)\n",
    "\n",
    "def buildMaxHeap(arr,n):\n",
    "    for i in range(floor(n//2)-1,-1,-1):\n",
    "        maxHeapify(arr,n,i)\n",
    "    # print(arr)\n",
    "\n",
    "def heapSort(arr):\n",
    "    n=len(arr)\n",
    "    buildMaxHeap(arr,n)\n",
    "    #get the largest element and store it at the end, now maxheapify the first replaced node with the updated heapsize\n",
    "    for i in range(n-1,-1,-1):\n",
    "        arr[0],arr[i]=arr[i],arr[0]\n",
    "        maxHeapify(arr,i,0)\n",
    "\n",
    "if __name__ == '__main__':\n",
    "    arr=[ 12, 11, 13, 5, 6, 7]\n",
    "    heapSort(arr)\n",
    "    print(arr)\n"
   ]
  },
  {
   "cell_type": "markdown",
   "metadata": {},
   "source": [
    "Heap sort is an in-place algorithm."
   ]
  },
  {
   "cell_type": "markdown",
   "metadata": {},
   "source": [
    "Time Complexity: Time complexity of heapify is O(Logn). Time complexity of createAndBuildHeap() is O(n) and overall time complexity of Heap Sort is O(nLogn)."
   ]
  },
  {
   "cell_type": "markdown",
   "metadata": {},
   "source": [
    "Not stable (check on this)"
   ]
  },
  {
   "cell_type": "markdown",
   "metadata": {},
   "source": [
    "# Iterative HeapSort"
   ]
  },
  {
   "cell_type": "markdown",
   "metadata": {},
   "source": [
    "HeapSort is a comparison based sorting technique where we first build Max Heap and then swaps the root element with last element (size times) and maintains the heap property each time to finally make it sorted."
   ]
  },
  {
   "cell_type": "code",
   "execution_count": 12,
   "metadata": {},
   "outputs": [
    {
     "name": "stdout",
     "output_type": "stream",
     "text": [
      "[9, 10, 15, 17, 20, 21]\n"
     ]
    }
   ],
   "source": [
    "def buildHeap(arr,n):\n",
    "    for i in range(n):\n",
    "        if arr[i]>arr[int((i-1)/2)]:\n",
    "            j=i\n",
    "            while arr[j]>arr[int((j-1)/2)]:\n",
    "                arr[j],arr[int((j-1)/2)]=arr[int((j-1)/2)],arr[j]\n",
    "                j=int((j-1)/2)\n",
    "\n",
    "def heapSort(arr,n):\n",
    "    buildHeap(arr,n)\n",
    "    # print(arr)\n",
    "    for i in range(n-1,0,-1):\n",
    "        arr[0],arr[i]=arr[i],arr[0]\n",
    "        j,index=0,0\n",
    "        while True:\n",
    "            index=2*j+1\n",
    "            # if left child is less than right child\n",
    "            if index<i-1 and arr[index]<arr[index+1]:\n",
    "                index+=1\n",
    "            # if parent is less than the child\n",
    "            if index<i and arr[index]>arr[j]:\n",
    "                arr[index],arr[j]=arr[j],arr[index]\n",
    "\n",
    "            j=index\n",
    "            if index>=i:\n",
    "                break\n",
    "\n",
    "if __name__ == '__main__':\n",
    "    arr=[10,20,15,17,9,21]\n",
    "    n=len(arr)\n",
    "    heapSort(arr,n)\n",
    "    print(arr)\n"
   ]
  },
  {
   "cell_type": "markdown",
   "metadata": {},
   "source": [
    "Time Complexity - O(nlogn)"
   ]
  },
  {
   "cell_type": "markdown",
   "metadata": {},
   "source": [
    "# K largest(or smallest) elements in an array"
   ]
  },
  {
   "cell_type": "markdown",
   "metadata": {},
   "source": [
    "Naive Approach -> Sort the array and then return the k elements. Time Complexity O(nlogn)"
   ]
  },
  {
   "cell_type": "markdown",
   "metadata": {},
   "source": [
    "Approach 1-> Use Max heap"
   ]
  },
  {
   "cell_type": "code",
   "execution_count": 13,
   "metadata": {},
   "outputs": [
    {
     "name": "stdout",
     "output_type": "stream",
     "text": [
      "50 30 23 "
     ]
    }
   ],
   "source": [
    "from heapq import _heapify_max, _heappop_max\n",
    "\n",
    "def getKLargest(arr,k):\n",
    "    n=len(arr)\n",
    "    _heapify_max(arr)\n",
    "    for i in range(k):\n",
    "        value=_heappop_max(arr)\n",
    "        print(value,end=\" \")\n",
    "\n",
    "if __name__ == '__main__':\n",
    "    arr=[1, 23, 12, 9, 30, 2, 50]\n",
    "    k=3\n",
    "    result=getKLargest(arr,k)\n"
   ]
  },
  {
   "cell_type": "markdown",
   "metadata": {},
   "source": [
    "Time Complexity -> O(n +klogn) (n times to build a maxeheap and k times you will have to maxheapify)"
   ]
  },
  {
   "cell_type": "markdown",
   "metadata": {},
   "source": [
    "Approach 2-> Use Min heap. Maintain a heap of size k, then for each element greater than the root of the heap, include that value as root of the heap and heapify"
   ]
  },
  {
   "cell_type": "code",
   "execution_count": 14,
   "metadata": {},
   "outputs": [
    {
     "name": "stdout",
     "output_type": "stream",
     "text": [
      "23 50 30\n"
     ]
    }
   ],
   "source": [
    "from heapq import heapify,heappop\n",
    "\n",
    "def getKLargest(arr,k):\n",
    "    heapArr=[]\n",
    "    for i in range(k):\n",
    "        heapArr.append(arr[i])\n",
    "    heapify(heapArr)\n",
    "    for i in range(k,len(arr)):\n",
    "        if arr[i]>heapArr[0]:\n",
    "            heapArr[0]=arr[i]\n",
    "            heapify(heapArr)\n",
    "    print(\" \".join(map(str,heapArr)))\n",
    "\n",
    "if __name__ == '__main__':\n",
    "    arr=[1, 23, 12, 9, 30, 2, 50]\n",
    "    k=3\n",
    "    result=getKLargest(arr,k)\n"
   ]
  },
  {
   "cell_type": "markdown",
   "metadata": {},
   "source": [
    "Time Complexity-> O(k+(n-k)logk) this does not give result in sorted order. If results are to be included in sorted manner than O(klogk) extra time is required"
   ]
  },
  {
   "cell_type": "markdown",
   "metadata": {},
   "source": [
    "# K’th Smallest/Largest Element in Unsorted Array"
   ]
  },
  {
   "cell_type": "markdown",
   "metadata": {},
   "source": [
    "Naive Approach -> Sort the array and return the kth element. Time Complexity O(nlogn)"
   ]
  },
  {
   "cell_type": "code",
   "execution_count": 16,
   "metadata": {},
   "outputs": [
    {
     "name": "stdout",
     "output_type": "stream",
     "text": [
      "7\n"
     ]
    }
   ],
   "source": [
    "from heapq import heapify,heappop\n",
    "\n",
    "def getKSmallestElement(arr,k):\n",
    "    heapify(arr)\n",
    "    for i in range(k):\n",
    "        value=heappop(arr)\n",
    "\n",
    "    return value\n",
    "\n",
    "if __name__ == '__main__':\n",
    "    arr=[7, 10, 4, 3, 20, 15]\n",
    "    k=3\n",
    "    result=getKSmallestElement(arr,k)\n",
    "    print(result)\n"
   ]
  },
  {
   "cell_type": "markdown",
   "metadata": {},
   "source": [
    "Time Complexity -> O(n +klogn)"
   ]
  },
  {
   "cell_type": "markdown",
   "metadata": {},
   "source": [
    "Another Approach -> Using max heap"
   ]
  },
  {
   "cell_type": "code",
   "execution_count": 17,
   "metadata": {},
   "outputs": [
    {
     "name": "stdout",
     "output_type": "stream",
     "text": [
      "7\n"
     ]
    }
   ],
   "source": [
    "from heapq import _heapify_max, _heappop_max\n",
    "\n",
    "def getKSmallestElement(arr,k):\n",
    "\n",
    "    heapArr=[]\n",
    "    for i in range(k):\n",
    "        heapArr.append(arr[i])\n",
    "    _heapify_max(heapArr)\n",
    "\n",
    "    for i in range(k,len(arr)):\n",
    "        if arr[i]<heapArr[0]:\n",
    "            heapArr[0]=arr[i]\n",
    "            _heapify_max(heapArr)\n",
    "\n",
    "    return heapArr[0]\n",
    "\n",
    "\n",
    "if __name__ == '__main__':\n",
    "    arr=[7, 10, 4, 3, 20, 15]\n",
    "    k=3\n",
    "    result=getKSmallestElement(arr,k)\n",
    "    print(result)\n"
   ]
  },
  {
   "cell_type": "markdown",
   "metadata": {},
   "source": [
    "Time Complexity -> O(k + (n-k)logk)"
   ]
  },
  {
   "cell_type": "markdown",
   "metadata": {},
   "source": [
    "# Sort a nearly sorted (or K sorted) array"
   ]
  },
  {
   "cell_type": "markdown",
   "metadata": {},
   "source": [
    "Given an array of n elements, where each element is at most k away from its target position, devise an algorithm that sorts in O(n log k) time. For example, let us consider k is 2, an element at index 7 in the sorted array, can be at indexes 5, 6, 7, 8, 9 in the given array."
   ]
  },
  {
   "cell_type": "code",
   "execution_count": 18,
   "metadata": {},
   "outputs": [
    {
     "name": "stdout",
     "output_type": "stream",
     "text": [
      "[2, 3, 5, 6, 8, 9, 10]\n"
     ]
    }
   ],
   "source": [
    "from heapq import heapify,heappop,heappush\n",
    "\n",
    "def sortNearlySortedArray(arr,k):\n",
    "    heapArr=[]\n",
    "\n",
    "    # size k+1 because element is having its actual location atmost k positions away\n",
    "    for i in range(k+1):\n",
    "        heapArr.append(arr[i])\n",
    "\n",
    "    heapify(heapArr)\n",
    "\n",
    "    index=0\n",
    "    for i in range(k+1,len(arr)):\n",
    "        arr[index]=heappop(heapArr)\n",
    "        heappush(heapArr,arr[i])\n",
    "        index+=1\n",
    "\n",
    "    while heapArr:\n",
    "        arr[index]=heappop(heapArr)\n",
    "        index+=1\n",
    "\n",
    "if __name__ == '__main__':\n",
    "    arr=[6, 5, 3, 2, 8, 10, 9]\n",
    "    k=3\n",
    "    sortNearlySortedArray(arr,k)\n",
    "    print(arr)\n"
   ]
  },
  {
   "cell_type": "markdown",
   "metadata": {},
   "source": [
    "Time Complexity -> O(k +(n-k)logk)"
   ]
  },
  {
   "cell_type": "markdown",
   "metadata": {},
   "source": [
    "Another Approach-> Using insertion sort"
   ]
  },
  {
   "cell_type": "code",
   "execution_count": 19,
   "metadata": {},
   "outputs": [
    {
     "name": "stdout",
     "output_type": "stream",
     "text": [
      "[2, 3, 5, 6, 8, 9, 10]\n"
     ]
    }
   ],
   "source": [
    "def sortNearlySortedArray(arr,k):\n",
    "    for i in range(len(arr)):\n",
    "        j=i-1\n",
    "        key=arr[i]\n",
    "        # this will run atmost k times\n",
    "        while j>=0 and arr[j]>key:\n",
    "            arr[j+1]=arr[j]\n",
    "            j-=1\n",
    "        arr[j+1]=key\n",
    "\n",
    "\n",
    "if __name__ == '__main__':\n",
    "    arr=[6, 5, 3, 2, 8, 10, 9]\n",
    "    k=3\n",
    "    sortNearlySortedArray(arr,k)\n",
    "    print(arr)\n"
   ]
  },
  {
   "cell_type": "markdown",
   "metadata": {},
   "source": [
    "Time Complexity-> O(nk), the inner loop will run atmost k times and outer loop will run for n times"
   ]
  },
  {
   "cell_type": "markdown",
   "metadata": {},
   "source": [
    "We can also use a Balanced Binary Search Tree instead of Heap to store K+1 elements. The insert and delete operations on Balanced BST also take O(Logk) time. So Balanced BST based method will also take O(nLogk) time, but the Heap bassed method seems to be more efficient as the minimum element will always be at root. Also, Heap doesn’t need extra space for left and right pointers."
   ]
  },
  {
   "cell_type": "markdown",
   "metadata": {},
   "source": [
    "# Tournament Tree TODO"
   ]
  },
  {
   "cell_type": "markdown",
   "metadata": {},
   "source": [
    "# Check if a given Binary Tree is Heap"
   ]
  },
  {
   "cell_type": "markdown",
   "metadata": {},
   "source": [
    "<pre>\n",
    "Given a binary tree, we need to check it has heap property or not, Binary tree need to fulfill the following two conditions for being a heap –\n",
    "\n",
    "It should be a complete tree (i.e. all levels except last should be full).\n",
    "Every node’s value should be greater than or equal to its child node (considering max-heap).\n",
    "</pre>"
   ]
  },
  {
   "cell_type": "code",
   "execution_count": 1,
   "metadata": {},
   "outputs": [
    {
     "name": "stdout",
     "output_type": "stream",
     "text": [
      "True\n"
     ]
    }
   ],
   "source": [
    "class Node:\n",
    "    def __init__(self,data):\n",
    "        self.data=data\n",
    "        self.left=None\n",
    "        self.right=None\n",
    "\n",
    "def isComplete(root,index,total):\n",
    "    if root is None:\n",
    "        return True\n",
    "    if index>=total:\n",
    "        return False\n",
    "    return isComplete(root.left,2*index+1,total) and isComplete(root.right,2*index+2,total)\n",
    "\n",
    "def countNodes(root):\n",
    "    if root is None:\n",
    "        return 0\n",
    "    return 1+countNodes(root.left)+countNodes(root.right)\n",
    "\n",
    "def doesSatisfyProperty(root):\n",
    "    if root.left is None and root.right is None:\n",
    "        return True\n",
    "    if root.right is None:\n",
    "        return root.data>root.left.data\n",
    "    else:\n",
    "        if root.data>root.left.data and root.data>root.right.data:\n",
    "            return doesSatisfyProperty(root.left) and doesSatisfyProperty(root.right)\n",
    "        else:\n",
    "            return False\n",
    "\n",
    "def isHeap(root):\n",
    "    if root is None:\n",
    "        return True\n",
    "    n=countNodes(root)\n",
    "    return isComplete(root,0,n) and doesSatisfyProperty(root)\n",
    "\n",
    "\n",
    "if __name__ == '__main__':\n",
    "    root = Node(5)\n",
    "    root.left = Node(2)\n",
    "    root.right = Node(3)\n",
    "    root.left.left = Node(1)\n",
    "    print(isHeap(root))\n"
   ]
  },
  {
   "cell_type": "markdown",
   "metadata": {},
   "source": [
    "Time Complexity ->O(n)"
   ]
  },
  {
   "cell_type": "markdown",
   "metadata": {},
   "source": [
    "Approach 2-> Level Order Traversal"
   ]
  },
  {
   "cell_type": "code",
   "execution_count": 1,
   "metadata": {},
   "outputs": [
    {
     "name": "stdout",
     "output_type": "stream",
     "text": [
      "False\n"
     ]
    }
   ],
   "source": [
    "class Node:\n",
    "    def __init__(self,data):\n",
    "        self.data=data\n",
    "        self.left=None\n",
    "        self.right=None\n",
    "\n",
    "\n",
    "def isBinaryHeap(root):\n",
    "    if root is None:\n",
    "        return True\n",
    "    queue=[]\n",
    "    queue.append(root)\n",
    "    leavesStart=False\n",
    "    while queue:\n",
    "        ele=queue.pop(0)\n",
    "        if ele.left:\n",
    "            if leavesStart or ele.left.data>ele.data:\n",
    "                return False\n",
    "            queue.append(ele.left)\n",
    "        else:\n",
    "            leavesStart=True\n",
    "        if ele.right:\n",
    "            if leavesStart or ele.right.data>ele.data:\n",
    "                return False\n",
    "            queue.append(ele.right)\n",
    "        else:\n",
    "            leavesStart=True\n",
    "    return True\n",
    "\n",
    "if __name__ == '__main__':\n",
    "    root=Node(97)\n",
    "    root.left=Node(46)\n",
    "    root.right=Node(37)\n",
    "    root.left.left=Node(12)\n",
    "    root.left.right=Node(3)\n",
    "    root.right.left=Node(7)\n",
    "    root.right.right=Node(31)\n",
    "    # root.left.left.left=Node(6)\n",
    "    # root.left.left.right=Node(9)\n",
    "    root.left.right.left=Node(6)\n",
    "    root.left.right.right=Node(9)\n",
    "    print(isBinaryHeap(root))\n"
   ]
  },
  {
   "cell_type": "markdown",
   "metadata": {},
   "source": [
    "Time Complexity O(n)"
   ]
  },
  {
   "cell_type": "markdown",
   "metadata": {},
   "source": [
    "# How to check if a given array represents a Binary Heap?"
   ]
  },
  {
   "cell_type": "code",
   "execution_count": 2,
   "metadata": {},
   "outputs": [
    {
     "name": "stdout",
     "output_type": "stream",
     "text": [
      "True\n"
     ]
    }
   ],
   "source": [
    "def isBinaryHeap(arr,n):\n",
    "    for i in range(n//2):\n",
    "        left=2*i+1\n",
    "        right=2*i+2\n",
    "        if (left<n and arr[left]>arr[i]) or (right<n and arr[right]>arr[i]):\n",
    "            return False\n",
    "    return True\n",
    "\n",
    "if __name__ == '__main__':\n",
    "    arr=[90, 15, 10, 7, 12, 2]\n",
    "    # arr=[9, 15, 10, 7, 12, 11]\n",
    "    n=len(arr)\n",
    "    print(isBinaryHeap(arr,n))\n"
   ]
  },
  {
   "cell_type": "markdown",
   "metadata": {},
   "source": [
    "Time Complexity -> O(n)"
   ]
  },
  {
   "cell_type": "markdown",
   "metadata": {},
   "source": [
    "# Connect n ropes with minimum cost"
   ]
  },
  {
   "cell_type": "markdown",
   "metadata": {},
   "source": [
    "<pre>\n",
    "There are given n ropes of different lengths, we need to connect these ropes into one rope. The cost to connect two ropes is equal to the sum of their lengths. We need to connect the ropes with minimum cost.\n",
    "\n",
    "For example, if we are given 4 ropes of lengths 4, 3, 2, and 6. We can connect the ropes in the following ways.\n",
    "1) First, connect ropes of lengths 2 and 3. Now we have three ropes of lengths 4, 6, and 5.\n",
    "2) Now connect ropes of lengths 4 and 5. Now we have two ropes of lengths 6 and 9.\n",
    "3) Finally connect the two ropes and all ropes have connected.\n",
    "\n",
    "Total cost for connecting all ropes is 5 + 9 + 15 = 29.\n",
    "</pre>"
   ]
  },
  {
   "cell_type": "code",
   "execution_count": 3,
   "metadata": {},
   "outputs": [
    {
     "name": "stdout",
     "output_type": "stream",
     "text": [
      "29\n"
     ]
    }
   ],
   "source": [
    "from heapq import heapify,heappop,heappush\n",
    "\n",
    "def connectRopes(arr,n):\n",
    "    totalCost=0\n",
    "    heapify(arr)\n",
    "    while len(arr)>1:\n",
    "        partA=heappop(arr)\n",
    "        partB=heappop(arr)\n",
    "        total=partA+partB\n",
    "        totalCost+=total\n",
    "        heappush(arr,total)\n",
    "        # print(arr)\n",
    "    # print(totalCost)\n",
    "    return totalCost\n",
    "\n",
    "if __name__ == '__main__':\n",
    "    arr=[4, 3, 2, 6]\n",
    "    n=len(arr)\n",
    "    # print(arr)\n",
    "    result=connectRopes(arr,n)\n",
    "    print(result)\n"
   ]
  },
  {
   "cell_type": "markdown",
   "metadata": {},
   "source": [
    "Time Complexity -> O(nlogn)"
   ]
  },
  {
   "cell_type": "markdown",
   "metadata": {},
   "source": [
    "Approach used-> Maintain a min heap and take out 2 minimum cost ropes, join the ropes and push the joined rope in the heap back again"
   ]
  },
  {
   "cell_type": "markdown",
   "metadata": {},
   "source": [
    "# Design an efficient data structure for given operations"
   ]
  },
  {
   "cell_type": "markdown",
   "metadata": {},
   "source": [
    "\n",
    "Design a Data Structure for the following operations. The data structure should be efficient enough to accommodate the operations according to their frequency.\n",
    "\n",
    "1) findMin() : Returns the minimum item.\n",
    "   Frequency: Most frequent\n",
    "\n",
    "2) findMax() : Returns the maximum item.\n",
    "    Frequency: Most frequent\n",
    "\n",
    "3) deleteMin() : Delete the minimum item.\n",
    "    Frequency: Moderate frequent \n",
    "\n",
    "4) deleteMax() : Delete the maximum item.\n",
    "    Frequency: Moderate frequent \n",
    "\n",
    "5) Insert() : Inserts an item.\n",
    "    Frequency: Least frequent\n",
    "\n",
    "6) Delete() : Deletes an item.\n",
    "    Frequency: Least frequent. "
   ]
  },
  {
   "cell_type": "markdown",
   "metadata": {},
   "source": [
    "Maintain a sorted array where smallest element is at first position and largest element is at last. The time complexity of findMin(), findMAx() and deleteMax() is O(1). But time complexities of deleteMin()[first element to be deleted and shifting takes O(n) time], insert() and delete() will be O(n)."
   ]
  },
  {
   "cell_type": "markdown",
   "metadata": {},
   "source": [
    "We can do the most frequent two operations in O(1) and other operations in O(Logn) time"
   ]
  },
  {
   "cell_type": "markdown",
   "metadata": {},
   "source": [
    "The idea is to use two binary heaps (one max and one min heap). The main challenge is, while deleting an item, we need to delete from both min-heap and max-heap. So, we need some kind of mutual data structure. In the following design, we have used doubly linked list as a mutual data structure. The doubly linked list contains all input items and indexes of corresponding min and max heap nodes. The nodes of min and max heaps store addresses of nodes of doubly linked list. The root node of min heap stores the address of minimum item in doubly linked list. Similarly, root of max heap stores address of maximum item in doubly linked list. Following are the details of operations."
   ]
  },
  {
   "cell_type": "markdown",
   "metadata": {},
   "source": [
    "1) findMax(): We get the address of maximum value node from root of Max Heap. So this is a O(1) operation.\n",
    "\n",
    "2) findMin(): We get the address of minimum value node from root of Min Heap. So this is a O(1) operation.\n",
    "\n",
    "3) deleteMin(): We get the address of minimum value node from root of Min Heap. We use this address to find the node in doubly linked list. From the doubly linked list, we get node of Max Heap. We delete node from all three. We can delete a node from doubly linked list in O(1) time. delete() operations for max and min heaps take O(Logn) time."
   ]
  },
  {
   "cell_type": "markdown",
   "metadata": {},
   "source": [
    "4) Insert(): We always insert at the beginning of linked list in O(1) time. Inserting the address in Max and Min Heaps take O(Logn) time. So overall complexity is O(Logn)\n",
    "\n",
    "5) Delete(): We first search the item in Linked List. Once the item is found in O(n) time, we delete it from linked list. Then using the indexes stored in linked list, we delete it from Min Heap and Max Heaps in O(Logn) time. So overall complexity of this operation is O(n). "
   ]
  },
  {
   "cell_type": "code",
   "execution_count": 5,
   "metadata": {},
   "outputs": [],
   "source": [
    "# Implementation"
   ]
  },
  {
   "cell_type": "markdown",
   "metadata": {},
   "source": [
    "# Merge k sorted arrays"
   ]
  },
  {
   "cell_type": "markdown",
   "metadata": {},
   "source": [
    "Given k sorted arrays of size n each, merge them and print the sorted output."
   ]
  },
  {
   "cell_type": "markdown",
   "metadata": {},
   "source": [
    "One simple solution can be to create the output array of size n* k, put all the elements of k lists into this array and sort this array"
   ]
  },
  {
   "cell_type": "markdown",
   "metadata": {},
   "source": [
    "Time Complexity -> O(n* k log(n* k)) and Space Complexity -> O(n* k)"
   ]
  },
  {
   "cell_type": "markdown",
   "metadata": {},
   "source": [
    "Another Approach-> The first element will be among the first 3 elements of each array, so maintain a array with the values from each array. Find the minimum of them, put it in the output array, now include the element from the removed element array as the new element."
   ]
  },
  {
   "cell_type": "code",
   "execution_count": 7,
   "metadata": {},
   "outputs": [
    {
     "name": "stdout",
     "output_type": "stream",
     "text": [
      "[1, 2, 6, 9, 12, 20, 23, 34, 34, 90, 1000, 2000]\n"
     ]
    }
   ],
   "source": [
    "def mergeKSortedArrays(arr,k):\n",
    "    n=len(arr[0])\n",
    "    output=[None]*(n*k)\n",
    "    nextElement=[None]*k\n",
    "    for i in range(k):\n",
    "        nextElement[i]=arr[i][0]\n",
    "\n",
    "    nextElementIndex=[0]*k\n",
    "    # print(output)\n",
    "    for i in range(n*k):\n",
    "        nextEle=min(nextElement)\n",
    "        output[i]=nextEle\n",
    "        for j in range(k):\n",
    "            if nextEle==nextElement[j]:#arr[j][nextElementIndex[j]]:\n",
    "                nextElementIndex[j]+=1\n",
    "                # print(nextElementIndex[j])\n",
    "                if nextElementIndex[j]<len(arr[j]):\n",
    "                    nextElement[j]=arr[j][nextElementIndex[j]]\n",
    "                else:\n",
    "                    nextElement[j]=float('infinity')\n",
    "                break\n",
    "    print(output)\n",
    "\n",
    "if __name__ == '__main__':\n",
    "    arr=[[2,6,12,34],[1,9,20,1000],[23,34,90,2000]]\n",
    "    k=len(arr)\n",
    "    mergeKSortedArrays(arr,k)\n"
   ]
  },
  {
   "cell_type": "markdown",
   "metadata": {},
   "source": [
    "Time Complexity-> O(n* k* (k)) and Space Complexity -> O(n* k)"
   ]
  },
  {
   "cell_type": "markdown",
   "metadata": {},
   "source": [
    "Another Approach-> Using min heap "
   ]
  },
  {
   "cell_type": "code",
   "execution_count": 8,
   "metadata": {},
   "outputs": [
    {
     "name": "stdout",
     "output_type": "stream",
     "text": [
      "[1, 2, 6, 9, 12, 20, 23, 34, 34, 90, 1000, 2000]\n"
     ]
    }
   ],
   "source": [
    "class Node:\n",
    "    def __init__(self,data,i,j):\n",
    "        self.data=data\n",
    "        self.i=i #array from which the data is taken\n",
    "        self.j=j #next data in the array to be picked\n",
    "\n",
    "class MinHeap:\n",
    "    def __init__(self,arr,k):\n",
    "        self.heapArr=arr\n",
    "        self.heapSize=k\n",
    "        for i in range((self.heapSize//2)-1,-1,-1):\n",
    "            self.heapify(i)\n",
    "\n",
    "    def heapify(self,i):\n",
    "        left=2*i+1\n",
    "        right=2*i+2\n",
    "        if left<self.heapSize and self.heapArr[left].data<self.heapArr[i].data:\n",
    "            smallest=left\n",
    "        else:\n",
    "            smallest=i\n",
    "        if right<self.heapSize and self.heapArr[right].data<self.heapArr[smallest].data:\n",
    "            smallest=right\n",
    "        if smallest!=i:\n",
    "            self.heapArr[smallest],self.heapArr[i]=self.heapArr[i],self.heapArr[smallest]\n",
    "            self.heapify(smallest)\n",
    "\n",
    "    def getMin(self):\n",
    "        # print(minheap.heapArr[0])\n",
    "        return self.heapArr[0]\n",
    "\n",
    "def mergeKSortedArrays(arr,k):\n",
    "    resultSize=0\n",
    "    heapArr=[]\n",
    "    for i in range(len(arr)):\n",
    "        resultSize+=len(arr[i])\n",
    "        heapNode=Node(arr[i][0],i,1)\n",
    "        heapArr.append(heapNode)\n",
    "    minheap=MinHeap(heapArr,k)\n",
    "    result=[0]*(resultSize)\n",
    "    for i in range(resultSize):\n",
    "        root=minheap.getMin()\n",
    "        # print(root.data)\n",
    "        result[i]=root.data\n",
    "        if root.j<len(arr[root.i]):\n",
    "            root.data=arr[root.i][root.j]\n",
    "            root.j+=1\n",
    "        else:\n",
    "            root.data=float('infinity')\n",
    "        minheap.heapArr[0]=root\n",
    "        minheap.heapify(0)\n",
    "    print(result)\n",
    "\n",
    "if __name__ == '__main__':\n",
    "    arr=[[2, 6, 12, 34], [1, 9, 20, 1000],   [23, 34, 90, 2000] ]\n",
    "    mergeKSortedArrays(arr,len(arr))\n"
   ]
  },
  {
   "cell_type": "markdown",
   "metadata": {},
   "source": [
    "Time Complexity -> O(n* k logk)"
   ]
  },
  {
   "cell_type": "markdown",
   "metadata": {},
   "source": [
    "# Merge Sort Tree for Range Order Statistics"
   ]
  },
  {
   "cell_type": "markdown",
   "metadata": {},
   "source": [
    "Prerequisite-> Segment Tree"
   ]
  },
  {
   "cell_type": "markdown",
   "metadata": {},
   "source": [
    "# Sort numbers stored on different machines"
   ]
  },
  {
   "cell_type": "markdown",
   "metadata": {},
   "source": [
    "Same as merge k sorted lists"
   ]
  },
  {
   "cell_type": "markdown",
   "metadata": {},
   "source": [
    "# Smallest Derangement of Sequence"
   ]
  },
  {
   "cell_type": "markdown",
   "metadata": {},
   "source": [
    "Given the sequence   S = {1, 2, 3 .... N}   find the lexicographically smallest (earliest in dictionary order) derangement of  S  .\n",
    "\n",
    "A derangement of S is as any permutation of S such that no two elements in S and its permutation occur at same position."
   ]
  },
  {
   "cell_type": "markdown",
   "metadata": {},
   "source": [
    "Since we are interested in generating smallest derangement, we start putting smaller elements in more significant positions.\n",
    "\n",
    "Start from left, at any position  i  place the next smallest element among the values of the sequence which have not yet been placed in positions before  i ."
   ]
  },
  {
   "cell_type": "code",
   "execution_count": 9,
   "metadata": {},
   "outputs": [
    {
     "name": "stdout",
     "output_type": "stream",
     "text": [
      "[2, 1, 4, 5, 3]\n"
     ]
    }
   ],
   "source": [
    "from heapq import heapify,heappop,heappush\n",
    "\n",
    "def getSmallestDerangement(n):\n",
    "    sequence=list(range(1,n+1))\n",
    "    result=[0]*n\n",
    "    heapArr=[]\n",
    "    for i in sequence:\n",
    "        heapArr.append(i)\n",
    "    heapify(heapArr)\n",
    "\n",
    "    for i in range(n):\n",
    "        value=heappop(heapArr)\n",
    "        if value!=sequence[i] or i==n-1:\n",
    "            result[i]=value\n",
    "        else:\n",
    "            result[i]=heappop(heapArr)\n",
    "            heappush(heapArr,value)\n",
    "    if result[n-1]==sequence[n-1]:\n",
    "        result[n-1],result[n-2]=result[n-2],result[n-1]\n",
    "\n",
    "    print(result)\n",
    "\n",
    "if __name__ == '__main__':\n",
    "    n=5\n",
    "    getSmallestDerangement(n)\n"
   ]
  },
  {
   "cell_type": "markdown",
   "metadata": {},
   "source": [
    "Time Complexity -> O(n +nlogn)"
   ]
  },
  {
   "cell_type": "markdown",
   "metadata": {},
   "source": [
    "Another Approach"
   ]
  },
  {
   "cell_type": "markdown",
   "metadata": {},
   "source": [
    "Since we are given a very specific sequence i.e  S_i = i \\ \\ \\forall i <= N  we can calculate the answer even more efficiently.\n",
    "\n",
    "Divide the original sequence into pairs of two elements, and then swap the elements of each pair.\n",
    "\n",
    "If N is odd then the last pair needs to be swapped again."
   ]
  },
  {
   "cell_type": "markdown",
   "metadata": {},
   "source": [
    "![](https://media.geeksforgeeks.org/wp-content/uploads/Derrangements-Algo-Even-1.png)"
   ]
  },
  {
   "cell_type": "markdown",
   "metadata": {},
   "source": [
    "![](https://media.geeksforgeeks.org/wp-content/uploads/Derrangements-Algo-Odd-1.png)"
   ]
  },
  {
   "cell_type": "markdown",
   "metadata": {},
   "source": [
    "Complexity: We perform at most N/2 + 1 swaps, so the complexity is O(N).\n",
    "\n",
    "Why does this method work\n",
    "At position i we already know the least element that can be put, which is either i+1 or i-1. Since we are already given the least permutation of S it is clear that the derangement must start from 2 and not 1 ie of the form i+1 (i = 1). The next element will be of the form i – 1 . The element after this will be i + 1 and then next i – 1. This pattern will continue until the end."
   ]
  },
  {
   "cell_type": "code",
   "execution_count": 11,
   "metadata": {},
   "outputs": [
    {
     "name": "stdout",
     "output_type": "stream",
     "text": [
      "[2, 1, 4, 3, 6, 5]\n"
     ]
    }
   ],
   "source": [
    "def getSmallestDerangement(n):\n",
    "    sequence=list(range(1,n+1))\n",
    "    result=[0]*n\n",
    "    for i in range(n-1):\n",
    "        if i%2==0:\n",
    "            result[i]=sequence[i+1]\n",
    "        else:\n",
    "            result[i]=sequence[i-1]\n",
    "\n",
    "    if n%2!=0:\n",
    "        result[n-1]=result[n-2]\n",
    "        result[n-2]=sequence[n-1]\n",
    "    else:\n",
    "        result[n-1]=sequence[n-2]\n",
    "\n",
    "\n",
    "    print(result)\n",
    "\n",
    "if __name__ == '__main__':\n",
    "    n=6\n",
    "    getSmallestDerangement(n)\n"
   ]
  },
  {
   "cell_type": "markdown",
   "metadata": {},
   "source": [
    "# Largest Derangement of a Sequence"
   ]
  },
  {
   "cell_type": "markdown",
   "metadata": {},
   "source": [
    "Similar Approach to smallest derangement"
   ]
  },
  {
   "cell_type": "code",
   "execution_count": 1,
   "metadata": {},
   "outputs": [
    {
     "name": "stdout",
     "output_type": "stream",
     "text": [
      "[5, 4, 2, 3, 1]\n"
     ]
    }
   ],
   "source": [
    "from heapq import heapify,heappop,heappush,_heapify_max,_heappop_max\n",
    "\n",
    "def getLargestDerangement(n):\n",
    "    sequence=list(range(1,n+1))\n",
    "    # sequence=[5, 4, 3, 2, 1]\n",
    "    result=[0]*n\n",
    "    heapArr=[]\n",
    "    for i in sequence:\n",
    "        heapArr.append(i)\n",
    "    _heapify_max(heapArr)\n",
    "\n",
    "    for i in range(n):\n",
    "        value=_heappop_max(heapArr)\n",
    "        if value!=sequence[i] or i==n-1:\n",
    "            result[i]=value\n",
    "        else:\n",
    "            result[i]=_heappop_max(heapArr)\n",
    "            heapArr.append(value)\n",
    "            _heapify_max(heapArr)\n",
    "    if result[n-1]==sequence[n-1]:\n",
    "        result[n-1],result[n-2]=result[n-2],result[n-1]\n",
    "\n",
    "    print(result)\n",
    "\n",
    "if __name__ == '__main__':\n",
    "    n=5\n",
    "    getLargestDerangement(n)\n"
   ]
  },
  {
   "cell_type": "markdown",
   "metadata": {},
   "source": [
    "Time Complexity-> O(n+nlogn)"
   ]
  },
  {
   "cell_type": "markdown",
   "metadata": {},
   "source": [
    "# K maximum sum combinations from two arrays"
   ]
  },
  {
   "cell_type": "markdown",
   "metadata": {},
   "source": [
    "Given two equally sized arrays (A, B) and N (size of both arrays).\n",
    "\n",
    "A sum combination is made by adding one element from array A and another element of array B. Display the maximum K valid sum combinations from all the possible sum combinations."
   ]
  },
  {
   "cell_type": "markdown",
   "metadata": {},
   "source": [
    "Naive Approach-> Put all the combinations of the sum into the heap, and take the largest element out for k times"
   ]
  },
  {
   "cell_type": "code",
   "execution_count": 2,
   "metadata": {},
   "outputs": [
    {
     "name": "stdout",
     "output_type": "stream",
     "text": [
      "13 12 10 "
     ]
    }
   ],
   "source": [
    "from heapq import _heapify_max,_heappop_max\n",
    "\n",
    "def getMaxSumCombinations(arr1,arr2,n,k):\n",
    "    heapArray=[]\n",
    "    for i in range(n):\n",
    "        for j in range(n):\n",
    "            heapArray.append(arr1[i]+arr2[j])\n",
    "    # print(heapArray)\n",
    "    _heapify_max(heapArray)\n",
    "    count=0\n",
    "    while count<k:\n",
    "        largest=_heappop_max(heapArray)\n",
    "        print(largest,end=\" \")\n",
    "        count+=1\n",
    "\n",
    "\n",
    "if __name__ == '__main__':\n",
    "    arr1=[4, 2, 5, 1]\n",
    "    arr2=[8, 0, 3, 5]\n",
    "    k=3\n",
    "    getMaxSumCombinations(arr1,arr2,len(arr1),k)\n"
   ]
  },
  {
   "cell_type": "code",
   "execution_count": 1,
   "metadata": {},
   "outputs": [
    {
     "name": "stdout",
     "output_type": "stream",
     "text": [
      "13\n",
      "12\n",
      "10\n",
      "\n",
      "7\n",
      "6\n"
     ]
    }
   ],
   "source": [
    "def getSumCombinations(a,b,k):\n",
    "    combinations=[]\n",
    "    for i in range(len(a)):\n",
    "        for j in range(len(b)):\n",
    "            combinations.append(a[i]+b[j])\n",
    "    combinations.sort(reverse=True)\n",
    "    for i in range(k):\n",
    "        print(combinations[i])\n",
    "\n",
    "if __name__ == '__main__':\n",
    "    a=[4, 2, 5, 1]\n",
    "    b=[8, 0, 3, 5]\n",
    "    k=3\n",
    "    getSumCombinations(a,b,k)\n",
    "    print()\n",
    "    a=[3,2]\n",
    "    b=[1,4]\n",
    "    k=2\n",
    "    getSumCombinations(a,b,k)\n"
   ]
  },
  {
   "cell_type": "markdown",
   "metadata": {},
   "source": [
    "Time Complexity-> O(n* n)"
   ]
  },
  {
   "cell_type": "markdown",
   "metadata": {},
   "source": [
    "Another Approach-> "
   ]
  },
  {
   "cell_type": "markdown",
   "metadata": {},
   "source": [
    "<pre>\n",
    "Limiting our search space using maxheap(priority queue)\n",
    "\n",
    "1. Sort both arrays array A and array B.\n",
    "\n",
    "2. Create a max heap i.e priority_queue to store the sum combinations along with the indices of elements from both arrays A and B which make up the sum. Heap is ordered by the sum.\n",
    "\n",
    "3. Initialize the heap with the maximum possible sum combination i.e (A[N – 1] + B[N – 1] where N is the size of array) and with the indices of elements from both arrays (N – 1, N – 1). The tuple inside max heap will be (A[N-1] + B[N – 1], N – 1, N – 1). Heap is ordered by first value i.e sum of both elements.\n",
    "\n",
    "4. Pop the heap to get the current largest sum and along with the indices of the element that make up the sum. Let the tuple be (sum, i, j).\n",
    "\n",
    "4.1. Next insert (A[i – 1] + B[j], i – 1, j) and (A[i] + B[j – 1], i, j – 1) into the max heap but make sure that the pair of indices i.e (i – 1, j) and (i, j – 1) are not\n",
    "already present in the max heap. \n",
    "</pre>"
   ]
  },
  {
   "cell_type": "code",
   "execution_count": 3,
   "metadata": {},
   "outputs": [
    {
     "name": "stdout",
     "output_type": "stream",
     "text": [
      "13 12 10 10 9 9 8 7 7 "
     ]
    }
   ],
   "source": [
    "from queue import PriorityQueue\n",
    "\n",
    "def getMaxSumCombinations(arr1,arr2,n,k):\n",
    "    arr1.sort()\n",
    "    arr2.sort()\n",
    "    # print(arr1)\n",
    "    # print(arr2)\n",
    "    s=set()\n",
    "    largest=(arr1[n-1]+arr2[n-1],n-1,n-1)\n",
    "    pQueue=PriorityQueue()\n",
    "    pQueue.put(((-1)*largest[0],largest))\n",
    "    # print(largest)\n",
    "    s.add((largest[1],largest[2]))\n",
    "    for i in range(k):\n",
    "        item=pQueue.get()\n",
    "        # print(item)\n",
    "        i=item[1][1]\n",
    "        j=item[1][2]\n",
    "        print(item[1][0],end=\" \")\n",
    "        if i>0:\n",
    "            temp1=(arr1[i-1]+arr2[j],i-1,j)\n",
    "            if (i-1,j) not in s:\n",
    "                pQueue.put((-1*temp1[0],temp1))\n",
    "                s.add((i-1,j))\n",
    "        if j>0:\n",
    "            temp2=(arr1[i]+arr2[j-1],i,j-1)\n",
    "            if ((i,j-1)) not in s:\n",
    "                pQueue.put((-1*temp2[0],temp2))\n",
    "                s.add((i,j-1))\n",
    "    # print(s)\n",
    "\n",
    "\n",
    "if __name__ == '__main__':\n",
    "    arr1=[4, 2, 5, 1]\n",
    "    arr2=[8, 0, 3, 5]\n",
    "    k=9\n",
    "    getMaxSumCombinations(arr1,arr2,len(arr1),k)\n"
   ]
  },
  {
   "cell_type": "markdown",
   "metadata": {},
   "source": [
    "Time Complexity-> Assuming k<=N O(nlogn)"
   ]
  },
  {
   "cell_type": "markdown",
   "metadata": {},
   "source": [
    "# Maximum distinct elements after removing k elements"
   ]
  },
  {
   "cell_type": "markdown",
   "metadata": {},
   "source": [
    "Given an array arr[] containing n elements. The problem is to find maximum number of distinct elements (non-repeating) after removing k elements from the array.\n",
    "Note: 1 <= k <= n."
   ]
  },
  {
   "cell_type": "code",
   "execution_count": 4,
   "metadata": {},
   "outputs": [
    {
     "name": "stdout",
     "output_type": "stream",
     "text": [
      "4\n"
     ]
    }
   ],
   "source": [
    "def getMaxDistinctElements(arr,k):\n",
    "    n=len(arr)\n",
    "    map={}\n",
    "    for i in range(len(arr)):\n",
    "        if arr[i] in map:\n",
    "            k-=1\n",
    "        else:\n",
    "            map[arr[i]]=1\n",
    "        if k==0:\n",
    "            break\n",
    "    if i+1<n:\n",
    "        for j in range(i+1,n):\n",
    "            if arr[j] in map:\n",
    "                map[arr[j]]+=1\n",
    "            else:\n",
    "                map[arr[j]]=1\n",
    "    count=0\n",
    "    for i in map:\n",
    "        if map[i]==1:\n",
    "            count+=1\n",
    "    if k!=0:\n",
    "        return count-k\n",
    "    return count\n",
    "\n",
    "\n",
    "if __name__ == '__main__':\n",
    "    arr=[5, 7, 5, 5, 1, 2, 2]\n",
    "    # arr=[1, 2, 3, 4, 5, 6, 7]\n",
    "    # arr=[1,2,2,2]\n",
    "    k=3\n",
    "    result=getMaxDistinctElements(arr,k)\n",
    "    print(result)\n"
   ]
  },
  {
   "cell_type": "markdown",
   "metadata": {},
   "source": [
    "Approach -> Using Priority Queue"
   ]
  },
  {
   "cell_type": "code",
   "execution_count": 2,
   "metadata": {},
   "outputs": [
    {
     "name": "stdout",
     "output_type": "stream",
     "text": [
      "4\n",
      "2\n",
      "2\n"
     ]
    }
   ],
   "source": [
    "from queue import PriorityQueue\n",
    "\n",
    "def findMaxDistinctElements(arr,k):\n",
    "    freqDict={}\n",
    "    for i in arr:\n",
    "        if i in freqDict:\n",
    "            freqDict[i]+=1\n",
    "        else:\n",
    "            freqDict[i]=1\n",
    "    pQueue=PriorityQueue()\n",
    "    for i in freqDict:\n",
    "        pQueue.put((-1*freqDict[i],i))\n",
    "    for i in range(k):\n",
    "        element=pQueue.get()\n",
    "        freqDict[element[1]]-=1\n",
    "        if freqDict[element[1]]>0:\n",
    "            pQueue.put((-1*freqDict[element[1]],element[1]))\n",
    "    count=0\n",
    "    for i in freqDict:\n",
    "        if freqDict[i]>0:\n",
    "            count+=1\n",
    "    return count\n",
    "\n",
    "if __name__ == '__main__':\n",
    "    arr=[5, 7, 5, 5, 1, 2, 2]\n",
    "    k=3\n",
    "    print(findMaxDistinctElements(arr,k))\n",
    "    arr=[1, 2, 3, 4, 5, 6, 7]\n",
    "    k=5\n",
    "    print(findMaxDistinctElements(arr,k))\n",
    "    arr=[1, 2, 2, 2]\n",
    "    k=1\n",
    "    print(findMaxDistinctElements(arr,k))\n"
   ]
  },
  {
   "cell_type": "markdown",
   "metadata": {},
   "source": [
    "Time Complexity O(klogd) where d is the number of distinct elements"
   ]
  },
  {
   "cell_type": "markdown",
   "metadata": {},
   "source": [
    "# Maximum difference between two subsets of m elements"
   ]
  },
  {
   "cell_type": "markdown",
   "metadata": {},
   "source": [
    "Given an array of n integers and a number m, find the maximum possible difference between two sets of m elements chosen from given array."
   ]
  },
  {
   "cell_type": "code",
   "execution_count": 5,
   "metadata": {},
   "outputs": [
    {
     "name": "stdout",
     "output_type": "stream",
     "text": [
      "42\n"
     ]
    }
   ],
   "source": [
    "def getMaxDiffSubset(arr,n,k):\n",
    "    arr.sort()\n",
    "    maxSubSum=0\n",
    "    minSubSum=0\n",
    "    j=n-1\n",
    "    for i in range(k):\n",
    "        minSubSum+=arr[i]\n",
    "        maxSubSum+=arr[j]\n",
    "        j-=1\n",
    "    return maxSubSum-minSubSum\n",
    "\n",
    "if __name__ == '__main__':\n",
    "    arr=[5, 8, 11, 40, 15]\n",
    "    # arr=[1, 2, 3, 4, 5]\n",
    "    n=len(arr)\n",
    "    k=2\n",
    "    result=getMaxDiffSubset(arr,n,k)\n",
    "    print(result)\n"
   ]
  },
  {
   "cell_type": "markdown",
   "metadata": {},
   "source": [
    "Time Complexity -> O(nlogn)"
   ]
  },
  {
   "cell_type": "markdown",
   "metadata": {},
   "source": [
    "Another Approach-> Using minheap and maxheap"
   ]
  },
  {
   "cell_type": "code",
   "execution_count": 6,
   "metadata": {},
   "outputs": [
    {
     "name": "stdout",
     "output_type": "stream",
     "text": [
      "42\n"
     ]
    }
   ],
   "source": [
    "from heapq import heapify,heappop,heappush,_heapify_max,_heappop_max\n",
    "\n",
    "def getMaxDiffSubset(arr,n,k):\n",
    "    maxHeap=[]#for minSubSum\n",
    "    minHeap=[]#for maxSubSum\n",
    "    for i in range(k):\n",
    "        maxHeap.append(arr[i])\n",
    "        minHeap.append(arr[i])\n",
    "    _heapify_max(maxHeap)\n",
    "    heapify(minHeap)\n",
    "    for i in range(k,n):\n",
    "        if arr[i]>minHeap[0]:\n",
    "            minHeap[0]=arr[i]\n",
    "            heapify(minHeap)\n",
    "        if arr[i]<maxHeap[0]:\n",
    "            maxHeap[0]=arr[i]\n",
    "            _heapify_max(maxHeap)\n",
    "    # print(minHeap)\n",
    "    # print(maxHeap)\n",
    "    return sum(minHeap)-sum(maxHeap)\n",
    "\n",
    "if __name__ == '__main__':\n",
    "    arr=[5, 8, 11, 40, 15]\n",
    "    # arr=[1, 2, 3, 4, 5]\n",
    "    n=len(arr)\n",
    "    k=2\n",
    "    result=getMaxDiffSubset(arr,n,k)\n",
    "    print(result)\n"
   ]
  },
  {
   "cell_type": "markdown",
   "metadata": {},
   "source": [
    "Time Complexity-> O(n-k* logk) and Space Complexity-> O(k)"
   ]
  },
  {
   "cell_type": "markdown",
   "metadata": {},
   "source": [
    "# Height of a complete binary tree (or Heap) with N nodes"
   ]
  },
  {
   "cell_type": "markdown",
   "metadata": {},
   "source": [
    "Height of a complete binary tree is ceil(log2(N+1)) – 1."
   ]
  },
  {
   "cell_type": "code",
   "execution_count": 7,
   "metadata": {},
   "outputs": [
    {
     "name": "stdout",
     "output_type": "stream",
     "text": [
      "2\n"
     ]
    }
   ],
   "source": [
    "import math \n",
    "def height(N): \n",
    "    return math.ceil(math.log2(N + 1)) - 1\n",
    " \n",
    "N = 6\n",
    "print(height(N)) "
   ]
  },
  {
   "cell_type": "markdown",
   "metadata": {},
   "source": [
    "# Heap Sort for decreasing order using min heap"
   ]
  },
  {
   "cell_type": "code",
   "execution_count": 8,
   "metadata": {},
   "outputs": [
    {
     "name": "stdout",
     "output_type": "stream",
     "text": [
      "[9, 6, 4, 3, 2]\n"
     ]
    }
   ],
   "source": [
    "def heapify(arr,i,n):\n",
    "    left=2*i+1\n",
    "    right=2*i+2\n",
    "    if left<n and arr[left]<arr[i]:\n",
    "        smallest=left\n",
    "    else:\n",
    "        smallest=i\n",
    "    if right<n and arr[right]<arr[smallest]:\n",
    "        smallest=right\n",
    "    if smallest!=i:\n",
    "        arr[smallest],arr[i]=arr[i],arr[smallest]\n",
    "        heapify(arr,smallest,n)\n",
    "\n",
    "def buildHeap(arr,n):\n",
    "    for i in range(n//2-1,-1,-1):\n",
    "        heapify(arr,i,n)\n",
    "\n",
    "def heapsort(arr,n):\n",
    "    buildHeap(arr,n)\n",
    "\n",
    "    for i in range(n-1,-1,-1):\n",
    "        arr[0],arr[i]=arr[i],arr[0]\n",
    "        heapify(arr,0,i)\n",
    "\n",
    "if __name__ == '__main__':\n",
    "    arr=[4, 6, 3, 2, 9]\n",
    "    n=len(arr)\n",
    "    heapsort(arr,n)\n",
    "    print(arr)\n"
   ]
  },
  {
   "cell_type": "markdown",
   "metadata": {},
   "source": [
    "Time Complexity -> O(nlogn)"
   ]
  },
  {
   "cell_type": "markdown",
   "metadata": {},
   "source": [
    "# Print all nodes less than a value x in a Min Heap."
   ]
  },
  {
   "cell_type": "code",
   "execution_count": 1,
   "metadata": {},
   "outputs": [
    {
     "name": "stdout",
     "output_type": "stream",
     "text": [
      "2 3 5 6 4 77 15 45 "
     ]
    }
   ],
   "source": [
    "class Node:\n",
    "    def __init__(self,data):\n",
    "        self.data=data\n",
    "        self.left=None\n",
    "        self.right=None\n",
    "\n",
    "def printNodes(root,x):\n",
    "    if root is None:\n",
    "        return\n",
    "    if root.data<x:\n",
    "        print(root.data,end=\" \")\n",
    "        printNodes(root.left,x)\n",
    "        printNodes(root.right,x)\n",
    "\n",
    "\n",
    "if __name__ == '__main__':\n",
    "    root=Node(2)\n",
    "    root.left=Node(3)\n",
    "    root.right=Node(15)\n",
    "    root.left.left=Node(5)\n",
    "    root.left.right=Node(4)\n",
    "    root.right.left=Node(45)\n",
    "    root.right.right=Node(80)\n",
    "    root.left.left.left=Node(6)\n",
    "    root.left.left.right=Node(150)\n",
    "    root.left.right.left=Node(77)\n",
    "    root.left.right.right=Node(120)\n",
    "    printNodes(root,80)\n"
   ]
  },
  {
   "cell_type": "markdown",
   "metadata": {},
   "source": [
    "Time Complexity -> O(n) and Space Complexity-> O(n)(Function call stack)"
   ]
  },
  {
   "cell_type": "markdown",
   "metadata": {},
   "source": [
    "# Median of Stream of Running Integers"
   ]
  },
  {
   "cell_type": "markdown",
   "metadata": {},
   "source": [
    "Given that integers are being read from a data stream. Find the median of all the elements read so far starting from the first integer till the last integer. This is also called the Median of Running Integers"
   ]
  },
  {
   "cell_type": "markdown",
   "metadata": {},
   "source": [
    "Median can be defined as the element in the data set which separates the higher half of the data sample from the lower half. In other words, we can get the median element as, when the input size is odd, we take the middle element of sorted data. If the input size is even, we pick an average of middle two elements in the sorted stream."
   ]
  },
  {
   "cell_type": "markdown",
   "metadata": {},
   "source": [
    "Naive solution is to maintain a sorted array and insert each element is a sorted manner and for median use the logic of middle elements"
   ]
  },
  {
   "cell_type": "markdown",
   "metadata": {},
   "source": [
    "Time Complexity -> O(n^2)"
   ]
  },
  {
   "cell_type": "markdown",
   "metadata": {},
   "source": [
    "Efficient Solution is to use min heap and max heap to segregate the smaller half and greater half elements"
   ]
  },
  {
   "cell_type": "markdown",
   "metadata": {},
   "source": [
    "<pre>\n",
    "Create two heaps. One max heap to maintain elements of lower half and one min heap to maintain elements of higher half at any point of time..\n",
    "\n",
    "Take initial value of median as 0.\n",
    "\n",
    "For every newly read element, insert it into either max heap or min-heap and calculate the median based on the following conditions:\n",
    "\n",
    "If the size of max heap is greater than the size of min-heap and the element is less than the previous median then pop the top element from max heap and insert into min-heap and insert the new element to max heap else insert the new element to min-heap. Calculate the new median as the average of top of elements of both max and min heap.\n",
    "\n",
    "If the size of max heap is less than the size of min-heap and the element is greater than the previous median then pop the top element from min-heap and insert into the max heap and insert the new element to min heap else insert the new element to the max heap. Calculate the new median as the average of top of elements of both max and min heap.\n",
    "\n",
    "If the size of both heaps is the same. Then check if the current is less than the previous median or not. If the current element is less than the previous median then insert it to the max heap and a new median will be equal to the top element of max heap. If the current element is greater than the previous median then insert it to min-heap and new median will be equal to the top element of min heap.\n",
    "</pre>"
   ]
  },
  {
   "cell_type": "code",
   "execution_count": 3,
   "metadata": {},
   "outputs": [
    {
     "name": "stdout",
     "output_type": "stream",
     "text": [
      "[20, 15.0, 20, 15.0]\n"
     ]
    }
   ],
   "source": [
    "from heapq import heapify,heappop,heappush,_heapify_max,_heappop_max\n",
    "\n",
    "def getMedian(arr,n):\n",
    "    greaterHalf=[]#minheap\n",
    "    smallerHalf=[]#maxheap\n",
    "    _heapify_max(smallerHalf)\n",
    "    heapify(smallerHalf)\n",
    "    heappush(smallerHalf,arr[0])\n",
    "    result=[]\n",
    "    result.append(arr[0])\n",
    "    for i in range(1,n):\n",
    "        x=arr[i]\n",
    "        if len(smallerHalf)>len(greaterHalf):\n",
    "            if x<smallerHalf[0]:\n",
    "                smallerHalf.append(x)\n",
    "                _heapify_max(smallerHalf)\n",
    "                heappush(greaterHalf,_heappop_max(smallerHalf))\n",
    "            else:\n",
    "                heappush(greaterHalf,x)\n",
    "            result.append((smallerHalf[0]+greaterHalf[0])/2)\n",
    "        else:\n",
    "            #extra elements always needs to be put into the smallerhalf\n",
    "            if x>greaterHalf[0]:\n",
    "                heappush(greaterHalf,x)\n",
    "                smallerHalf.append(heappop(greaterHalf))\n",
    "                _heapify_max(smallerHalf)\n",
    "            else:\n",
    "                smallerHalf.append(x)\n",
    "                _heapify_max(smallerHalf)\n",
    "            result.append(smallerHalf[0])\n",
    "#     print(smallerHalf)\n",
    "#     print(greaterHalf)\n",
    "    print(result)\n",
    "if __name__ == '__main__':\n",
    "    arr=[20,10,30,7]\n",
    "    # arr=[5, 15, 10, 20, 3]\n",
    "    getMedian(arr,len(arr))\n"
   ]
  },
  {
   "cell_type": "code",
   "execution_count": 1,
   "metadata": {},
   "outputs": [
    {
     "name": "stdout",
     "output_type": "stream",
     "text": [
      "[20, 15.0, 20, 15.0]\n"
     ]
    }
   ],
   "source": [
    "from heapq import heapify,heappop,heappush,_heapify_max,_heappop_max\n",
    "\n",
    "def getMedian(arr):\n",
    "    result=[]\n",
    "    smallerHalf=[]#maxheap\n",
    "    greaterHalf=[]#minheap\n",
    "    smallerHalf.append(arr[0])\n",
    "    _heapify_max(smallerHalf)\n",
    "    heapify(greaterHalf)\n",
    "    result.append(arr[0])\n",
    "    for i in range(1,len(arr)):\n",
    "        x=arr[i]\n",
    "        if len(smallerHalf)==len(greaterHalf):\n",
    "            if x<result[-1]:\n",
    "                smallerHalf.append(x)\n",
    "                _heapify_max(smallerHalf)\n",
    "                result.append(smallerHalf[0])\n",
    "            else:\n",
    "                heappush(greaterHalf,x)\n",
    "                result.append(greaterHalf[0])\n",
    "        elif len(smallerHalf)>len(greaterHalf):\n",
    "            if x<result[-1]:\n",
    "                smallerHalf.append(x)\n",
    "                _heapify_max(smallerHalf)\n",
    "                heappush(greaterHalf,_heappop_max(smallerHalf))\n",
    "            else:\n",
    "                heappush(greaterHalf,x)\n",
    "            result.append((smallerHalf[0]+greaterHalf[0])/2)\n",
    "        else:\n",
    "            if x<result[-1]:\n",
    "                smallerHalf.append(x)\n",
    "                _heapify_max(smallerHalf)\n",
    "            else:\n",
    "                heappush(greaterHalf,x)\n",
    "                smallerHalf.append(heappop(greaterHalf))\n",
    "                _heapify_max(smallerHalf)\n",
    "            result.append((smallerHalf[0]+greaterHalf[0])/2)\n",
    "    print(result)\n",
    "\n",
    "\n",
    "if __name__ == '__main__':\n",
    "    arr=[5,10,15]\n",
    "    arr=[1, 2, 3, 4]\n",
    "    arr=[20,10,30,7]\n",
    "    getMedian(arr)\n"
   ]
  },
  {
   "cell_type": "markdown",
   "metadata": {},
   "source": [
    "# Largest triplet product in a stream"
   ]
  },
  {
   "cell_type": "markdown",
   "metadata": {},
   "source": [
    "Given a stream of integers represented as arr[]. For each index i from 0 to n-1, print the multiplication of largest, second largest, third largest element of the subarray arr[0…i]. If i < 2 print -1."
   ]
  },
  {
   "cell_type": "markdown",
   "metadata": {},
   "source": [
    "Approach-> Use Min heap to maintain the three largest element in a stream"
   ]
  },
  {
   "cell_type": "code",
   "execution_count": 4,
   "metadata": {},
   "outputs": [
    {
     "name": "stdout",
     "output_type": "stream",
     "text": [
      "-1 -1 6 24 60 "
     ]
    }
   ],
   "source": [
    "from heapq import heapify,heappop,heappush\n",
    "\n",
    "def largestTriplet(arr,n):\n",
    "    heapArr=[]\n",
    "    for i in range(3):\n",
    "        heapArr.append(arr[i])\n",
    "    for i in range(3-1):\n",
    "        print(-1,end=\" \")\n",
    "    print(heapArr[0]*heapArr[1]*heapArr[2],end=\" \")\n",
    "    for i in range(3,n):\n",
    "        if heapArr[0]<arr[i]:\n",
    "            heapArr[0]=arr[i]\n",
    "            heapify(heapArr)\n",
    "        print(heapArr[0]*heapArr[1]*heapArr[2],end=\" \")\n",
    "\n",
    "\n",
    "if __name__ == '__main__':\n",
    "    arr=[1, 2, 3, 4, 5]\n",
    "    largestTriplet(arr,len(arr))\n"
   ]
  },
  {
   "cell_type": "markdown",
   "metadata": {},
   "source": [
    "Time Complexity -> ((n-3)* log(3))"
   ]
  },
  {
   "cell_type": "markdown",
   "metadata": {},
   "source": [
    "# Find k numbers with most occurrences in the given array"
   ]
  },
  {
   "cell_type": "markdown",
   "metadata": {},
   "source": [
    "Given an array of n numbers and a positive integer k. The problem is to find k numbers with most occurrences, i.e., the top k numbers having the maximum frequency. If two numbers have the same frequency then the larger number should be given preference. The numbers should be displayed in decreasing order of their frequencies. It is assumed that the array consists of k numbers with most occurrences."
   ]
  },
  {
   "cell_type": "code",
   "execution_count": 1,
   "metadata": {},
   "outputs": [
    {
     "name": "stdout",
     "output_type": "stream",
     "text": [
      "5 11 7 10\n"
     ]
    }
   ],
   "source": [
    "class Node:\n",
    "    def __init__(self,data,freq):\n",
    "        self.data=data\n",
    "        self.freq=freq\n",
    "\n",
    "def heapify(heap,i,n):\n",
    "    left=2*i+1\n",
    "    right=2*i+2\n",
    "    # print(left,right)\n",
    "    # if left<n and heap[left].freq>heap[i].freq:\n",
    "    #     largest=left\n",
    "    # else:\n",
    "    #     largest=i\n",
    "    if left<n:\n",
    "        if heap[left].freq!=heap[i].freq:\n",
    "            if heap[left].freq>heap[i].freq:\n",
    "                largest=left\n",
    "            else:\n",
    "                largest=i\n",
    "        else:\n",
    "            if heap[left].data>heap[i].data:\n",
    "                largest=left\n",
    "            else:\n",
    "                largest=i\n",
    "    else:\n",
    "        largest=i\n",
    "    # if right<n and heap[right].freq>heap[largest].freq:\n",
    "    #     largest=right\n",
    "    if right<n:\n",
    "        if heap[right].freq!=heap[largest].freq:\n",
    "            if heap[right].freq>heap[largest].freq:\n",
    "                largest=right\n",
    "        else:\n",
    "            if heap[right].data>heap[largest].data:\n",
    "                largest=right\n",
    "    if largest!=i:\n",
    "        heap[largest],heap[i]=heap[i],heap[largest]\n",
    "        heapify(heap,largest,n)\n",
    "\n",
    "def buildHeap(hashMap,k,n):\n",
    "    heap=[]\n",
    "    for i in hashMap:\n",
    "        node=Node(i,hashMap[i])\n",
    "        heap.append(node)\n",
    "    # for i in range(len(heap)):\n",
    "    #     print((heap[i].data,heap[i].freq))\n",
    "    for i in range((len(heap)//2)-1,-1,-1):\n",
    "        heapify(heap,i,len(heap))\n",
    "\n",
    "    return heap\n",
    "\n",
    "\n",
    "def getKFrequentElements(arr,k,n):\n",
    "    hashMap={}\n",
    "    for i in arr:\n",
    "        if i in hashMap:\n",
    "            hashMap[i]+=1\n",
    "        else:\n",
    "            hashMap[i]=1\n",
    "    heap=buildHeap(hashMap,k,n)\n",
    "    result=[]\n",
    "    for i in range(k):\n",
    "        item=heap[0]\n",
    "        # result.append((item.data,item.freq))\n",
    "        result.append(item.data)\n",
    "        heap[0].freq=float('-infinity')\n",
    "        heapify(heap,0,len(heap))\n",
    "\n",
    "    return result\n",
    "\n",
    "\n",
    "if __name__ == '__main__':\n",
    "    # arr=[3, 1, 4, 4, 5, 2, 6, 1]\n",
    "    arr=[7, 10, 11, 5, 2, 5, 5, 7, 11, 8, 9]\n",
    "    # k=2\n",
    "    k=4\n",
    "    result=getKFrequentElements(arr,k,len(arr))\n",
    "    print(\" \".join(map(str,result)))\n"
   ]
  },
  {
   "cell_type": "markdown",
   "metadata": {},
   "source": [
    "Time Complexity -> klogd"
   ]
  },
  {
   "cell_type": "markdown",
   "metadata": {},
   "source": [
    "Another Approach -> Hashing and Sorting with Custom Comparator"
   ]
  },
  {
   "cell_type": "code",
   "execution_count": 2,
   "metadata": {},
   "outputs": [
    {
     "name": "stdout",
     "output_type": "stream",
     "text": [
      "4 1 \n",
      "\n",
      "5 11 7 10 \n",
      "\n"
     ]
    }
   ],
   "source": [
    "from functools import cmp_to_key\n",
    "\n",
    "def compare(a,b):\n",
    "    if a[1]<b[1]:\n",
    "        return 1\n",
    "    elif a[1]>b[1]:\n",
    "        return -1\n",
    "    else:\n",
    "        if a[0]<b[0]:\n",
    "            return 1\n",
    "        elif a[0]>b[0]:\n",
    "            return -1\n",
    "        else:\n",
    "            return 0\n",
    "\n",
    "def getKFrequentElements(arr,k):\n",
    "    hashMap={}\n",
    "    for i in arr:\n",
    "        if i in hashMap:\n",
    "            hashMap[i]+=1\n",
    "        else:\n",
    "            hashMap[i]=1\n",
    "    result=[]\n",
    "    for i in hashMap:\n",
    "        result.append((i,hashMap[i]))\n",
    "    result.sort(key=cmp_to_key(compare))\n",
    "\n",
    "    for i in range(k):\n",
    "        print(result[i][0],end=\" \")\n",
    "    print('\\n')\n",
    "\n",
    "\n",
    "if __name__ == '__main__':\n",
    "    arr=[3, 1, 4, 4, 5, 2, 6, 1]\n",
    "    k=2\n",
    "    getKFrequentElements(arr,k)\n",
    "    arr=[7, 10, 11, 5, 2, 5, 5, 7, 11, 8, 9]\n",
    "    k=4\n",
    "    getKFrequentElements(arr,k)\n"
   ]
  },
  {
   "cell_type": "markdown",
   "metadata": {},
   "source": [
    "# Convert BST to Min Heap"
   ]
  },
  {
   "cell_type": "markdown",
   "metadata": {},
   "source": [
    "Given a binary search tree which is also a complete binary tree. The problem is to convert the given BST into a Min Heap with the condition that all the values in the left subtree of a node should be less than all the values in the right subtree of the node. This condition is applied on all the nodes in the so converted Min Heap."
   ]
  },
  {
   "cell_type": "markdown",
   "metadata": {},
   "source": [
    "Approach-> Store the inorder traversal, it will always be in sorted manner. Now preorderly replace the elements"
   ]
  },
  {
   "cell_type": "code",
   "execution_count": 2,
   "metadata": {},
   "outputs": [
    {
     "name": "stdout",
     "output_type": "stream",
     "text": [
      "4 2 1 3 6 5 7 \n",
      "1 2 3 4 5 6 7 "
     ]
    }
   ],
   "source": [
    "class Node:\n",
    "    def __init__(self,data):\n",
    "        self.data=data\n",
    "        self.left=None\n",
    "        self.right=None\n",
    "\n",
    "def storeInorder(root,arr):\n",
    "    if root is None:\n",
    "        return\n",
    "    storeInorder(root.left,arr)\n",
    "    arr.append(root.data)\n",
    "    storeInorder(root.right,arr)\n",
    "\n",
    "def convertBSTToMinHeapUtil(root,arr,i):\n",
    "    if root is None:\n",
    "        return\n",
    "    root.data=arr[i[0]]\n",
    "    i[0]+=1\n",
    "    convertBSTToMinHeapUtil(root.left,arr,i)\n",
    "    convertBSTToMinHeapUtil(root.right,arr,i)\n",
    "\n",
    "\n",
    "def convertBSTToMinHeap(root):\n",
    "    arr=[]\n",
    "    storeInorder(root,arr)\n",
    "    i=[0]\n",
    "    convertBSTToMinHeapUtil(root,arr,i)\n",
    "\n",
    "def preorder(root):\n",
    "    if root is None:\n",
    "        return\n",
    "    print(root.data,end=' ')\n",
    "    preorder(root.left)\n",
    "    preorder(root.right)\n",
    "\n",
    "if __name__ == '__main__':\n",
    "    root=Node(4)\n",
    "    root.left=Node(2)\n",
    "    root.right=Node(6)\n",
    "    root.left.left=Node(1)\n",
    "    root.left.right=Node(3)\n",
    "    root.right.left=Node(5)\n",
    "    root.right.right=Node(7)\n",
    "    preorder(root)\n",
    "    convertBSTToMinHeap(root)\n",
    "    print()\n",
    "    preorder(root)\n"
   ]
  },
  {
   "cell_type": "markdown",
   "metadata": {},
   "source": [
    "Time Complexity -> O(n) and space complexity -> O(n)"
   ]
  },
  {
   "cell_type": "markdown",
   "metadata": {},
   "source": [
    "# Merge two binary Max Heaps"
   ]
  },
  {
   "cell_type": "markdown",
   "metadata": {},
   "source": [
    "Approach-> Put all the elements in a separate array and then heapify it"
   ]
  },
  {
   "cell_type": "code",
   "execution_count": 3,
   "metadata": {},
   "outputs": [
    {
     "name": "stdout",
     "output_type": "stream",
     "text": [
      "[12, 10, 9, 2, 5, 7, 6]\n"
     ]
    }
   ],
   "source": [
    "def heapify(arr,i,n):\n",
    "    left=2*i+1\n",
    "    right=2*i+2\n",
    "    if left<n and arr[left]>arr[i]:\n",
    "        largest=left\n",
    "    else:\n",
    "        largest=i\n",
    "    if right<n and arr[right]>arr[largest]:\n",
    "        largest=right\n",
    "    if largest!=i:\n",
    "        arr[largest],arr[i]=arr[i],arr[largest]\n",
    "        heapify(arr,largest,n)\n",
    "\n",
    "\n",
    "def mergeMaxHeaps(a,b):\n",
    "    heapArr=[]\n",
    "    for i in range(len(a)):\n",
    "        heapArr.append(a[i])\n",
    "    for i in range(len(b)):\n",
    "        heapArr.append(b[i])\n",
    "    for i in range(len(heapArr)//2-1,-1,-1):\n",
    "        heapify(heapArr,i,len(heapArr))\n",
    "    return heapArr\n",
    "\n",
    "\n",
    "if __name__ == '__main__':\n",
    "    a=[10, 5, 6, 2]\n",
    "    b=[12, 7, 9]\n",
    "    result=mergeMaxHeaps(a,b)\n",
    "    print(result)\n"
   ]
  },
  {
   "cell_type": "markdown",
   "metadata": {},
   "source": [
    "Time Complexity -> O(m+n) (building a max heap)"
   ]
  },
  {
   "cell_type": "markdown",
   "metadata": {},
   "source": [
    "# K-th Largest Sum Contiguous Subarray"
   ]
  },
  {
   "cell_type": "markdown",
   "metadata": {},
   "source": [
    "A brute force approach approach is to store all the contiguous sums in another array and sort it, and print the k-th largest. But in case of number of elements being large, the array in which we store the contiguous sums will run out of memory as the number of contiguous subarrays will be large (quadratic order)"
   ]
  },
  {
   "cell_type": "markdown",
   "metadata": {},
   "source": [
    "An efficient approach is store the pre-sum of the array in a sum[] array. We can find sum of contiguous subarray from index i to j as sum[j]-sum[i-1]"
   ]
  },
  {
   "cell_type": "code",
   "execution_count": 4,
   "metadata": {},
   "outputs": [
    {
     "name": "stdout",
     "output_type": "stream",
     "text": [
      "-10\n"
     ]
    }
   ],
   "source": [
    "from heapq import heapify,heappop,heappush\n",
    "\n",
    "def getKLargestContiguousSum(arr,k,n):\n",
    "    sum=[]\n",
    "    sum.append(0)\n",
    "    sum.append(arr[0])\n",
    "    for i in range(2,n+1):\n",
    "        sum.append(arr[i-1]+sum[i-1])\n",
    "    # print(sum)\n",
    "    heapArr=[]\n",
    "    heapify(heapArr)\n",
    "    for i in range(1,n+1):\n",
    "        for j in range(i,n+1):\n",
    "            x=sum[j]-sum[i-1]\n",
    "            if len(heapArr)<k:\n",
    "                heappush(heapArr,x)\n",
    "            else:\n",
    "                if x>heapArr[0]:\n",
    "                    heappop(heapArr)\n",
    "                    heappush(heapArr,x)\n",
    "    return heapArr[0]\n",
    "\n",
    "\n",
    "if __name__ == '__main__':\n",
    "    arr=[10, -10, 20, -40]\n",
    "    k=6\n",
    "    # arr=[20, -5, -1]\n",
    "    # k=3\n",
    "    result=getKLargestContiguousSum(arr,k,len(arr))\n",
    "    print(result)\n"
   ]
  },
  {
   "cell_type": "markdown",
   "metadata": {},
   "source": [
    "Time Complexity-> n^2log(k) and heaps are cache friendly"
   ]
  },
  {
   "cell_type": "markdown",
   "metadata": {},
   "source": [
    "# Minimum product of k integers in an array of positive Integers"
   ]
  },
  {
   "cell_type": "markdown",
   "metadata": {},
   "source": [
    "Given an array of n positive integers. We are required to write a program to print the minimum product of k integers of the given array."
   ]
  },
  {
   "cell_type": "markdown",
   "metadata": {},
   "source": [
    "Approach-> Use a minheap, get the minimum k elements from the heap and find the product"
   ]
  },
  {
   "cell_type": "markdown",
   "metadata": {},
   "source": [
    "Time Complexity-> O(n+klogn)"
   ]
  },
  {
   "cell_type": "markdown",
   "metadata": {},
   "source": [
    "# Leaf starting point in a Binary Heap data structure"
   ]
  },
  {
   "cell_type": "markdown",
   "metadata": {},
   "source": [
    "n/2 till n-1"
   ]
  },
  {
   "cell_type": "markdown",
   "metadata": {},
   "source": [
    "# Why is Binary Heap Preferred over BST for Priority Queue?"
   ]
  },
  {
   "cell_type": "markdown",
   "metadata": {},
   "source": [
    "<pre>\n",
    "A typical Priority Queue requires following operations to be efficient.\n",
    "\n",
    "Get Top Priority Element (Get minimum or maximum)\n",
    "Insert an element\n",
    "Remove top priority element\n",
    "Decrease Key\n",
    "A Binary Heap supports above operations with following time complexities:\n",
    "\n",
    "O(1)\n",
    "O(Logn)\n",
    "O(Logn)\n",
    "O(Logn)\n",
    "</pre>"
   ]
  },
  {
   "cell_type": "markdown",
   "metadata": {},
   "source": [
    "<pre>\n",
    "A Self Balancing Binary Search Tree like AVL Tree, Red-Black Tree, etc can also support above operations with same time complexities.\n",
    "\n",
    "Finding minimum and maximum are not naturally O(1), but can be easily implemented in O(1) by keeping an extra pointer to minimum or maximum and updating the pointer with insertion and deletion if required. With deletion we can update by finding inorder predecessor or successor.\n",
    "\n",
    "Inserting an element is naturally O(Logn)\n",
    "\n",
    "Removing maximum or minimum are also O(Logn)\n",
    "\n",
    "Decrease key can be done in O(Logn) by doing a deletion followed by insertion.\n",
    "</pre>"
   ]
  },
  {
   "cell_type": "markdown",
   "metadata": {},
   "source": [
    "Since Binary Heap is implemented using arrays, there is always better locality of reference and operations are more cache friendly.\n",
    "\n",
    "Although operations are of same time complexity, constants in Binary Search Tree are higher.\n",
    "\n",
    "We can build a Binary Heap in O(n) time. Self Balancing BSTs require O(nLogn) time to construct.\n",
    "\n",
    "Binary Heap doesn’t require extra space for pointers.\n",
    "\n",
    "Binary Heap is easier to implement.\n",
    "\n",
    "There are variations of Binary Heap like Fibonacci Heap that can support insert and decrease-key in Θ(1) time"
   ]
  },
  {
   "cell_type": "markdown",
   "metadata": {},
   "source": [
    "<pre><strong>Is Binary Heap always better?</strong>\n",
    "\n",
    "Although Binary Heap is for Priority Queue, BSTs have their own advantages and the list of advantages is in-fact bigger compared to binary heap.\n",
    "\n",
    "Searching an element in self-balancing BST is O(Logn) which is O(n) in Binary Heap.\n",
    "We can print all elements of BST in sorted order in O(n) time, but Binary Heap requires O(nLogn) time.\n",
    "\n",
    "Floor and ceil can be found in O(Logn) time.\n",
    "\n",
    "K’th largest/smallest element be found in O(Logn) time by augmenting tree with an additional field.\n",
    "<pre>"
   ]
  },
  {
   "cell_type": "markdown",
   "metadata": {},
   "source": [
    "# Convert min Heap to max Heap"
   ]
  },
  {
   "cell_type": "markdown",
   "metadata": {},
   "source": [
    "Idea is - we simply build Max Heap without caring about the input. We start from bottom-most and rightmost internal mode of min Heap and heapify all internal modes in bottom up way to build the Max heap."
   ]
  },
  {
   "cell_type": "markdown",
   "metadata": {},
   "source": [
    "Time Complexity -O(n) [Time to build a heap]"
   ]
  },
  {
   "cell_type": "markdown",
   "metadata": {},
   "source": [
    "# Given level order traversal of a Binary Tree, check if the Tree is a Min-Heap"
   ]
  },
  {
   "cell_type": "code",
   "execution_count": 5,
   "metadata": {},
   "outputs": [
    {
     "name": "stdout",
     "output_type": "stream",
     "text": [
      "False\n"
     ]
    }
   ],
   "source": [
    "def isMinHeap(arr,n):\n",
    "    for i in range(n//2):\n",
    "        if arr[2*i+1]<arr[i]:\n",
    "            return False\n",
    "        if arr[2*i+2]<arr[i]:\n",
    "            return False\n",
    "    return True\n",
    "\n",
    "if __name__ == '__main__':\n",
    "    # arr=[10, 15, 14, 25, 30]\n",
    "    arr=[30, 56, 22, 49, 30, 51, 2, 67]\n",
    "    print(isMinHeap(arr,len(arr)))\n"
   ]
  },
  {
   "cell_type": "markdown",
   "metadata": {},
   "source": [
    "Time Complexity -> O(n)"
   ]
  },
  {
   "cell_type": "markdown",
   "metadata": {},
   "source": [
    "# Rearrange characters in a string such that no two adjacent are same"
   ]
  },
  {
   "cell_type": "code",
   "execution_count": 6,
   "metadata": {},
   "outputs": [
    {
     "name": "stdout",
     "output_type": "stream",
     "text": [
      "abaca\n"
     ]
    }
   ],
   "source": [
    "from heapq import heappop\n",
    "\n",
    "class Node:\n",
    "    def __init__(self,data,freq):\n",
    "        self.data=data\n",
    "        self.freq=freq\n",
    "\n",
    "def heapify(arr,i):\n",
    "    n=len(arr)\n",
    "    left=2*i+1\n",
    "    right=2*i+2\n",
    "    if left<n and arr[left].freq>arr[i].freq:\n",
    "        largest=left\n",
    "    else:\n",
    "        largest=i\n",
    "    if right<n and arr[right].freq>arr[largest].freq:\n",
    "        largest=right\n",
    "    if largest!=i:\n",
    "        arr[largest],arr[i]=arr[i],arr[largest]\n",
    "        heapify(arr,largest)\n",
    "\n",
    "def buildHeap(heapArr):\n",
    "    n=len(heapArr)\n",
    "    for i in range(n//2-1,-1,-1):\n",
    "        heapify(heapArr,i)\n",
    "\n",
    "def rearrangeString(strValue):\n",
    "    mapStr={}\n",
    "    for i in strValue:\n",
    "        if i in mapStr:\n",
    "            mapStr[i]+=1\n",
    "        else:\n",
    "            mapStr[i]=1\n",
    "    heapArr=[]\n",
    "    for i in mapStr:\n",
    "        node=Node(i,mapStr[i])\n",
    "        heapArr.append(node)\n",
    "\n",
    "    buildHeap(heapArr)\n",
    "    size=len(heapArr)\n",
    "    result=[None]*len(strValue)\n",
    "    prev='#'\n",
    "    # print(heapArr)\n",
    "    # item=heapArr[0]\n",
    "    # heapArr.pop(0)\n",
    "    # print(heapArr)\n",
    "    # print(item.data,item.freq)\n",
    "    for i in range(len(result)):\n",
    "        # print('inside')\n",
    "        d=heapArr.pop(0)\n",
    "        if prev!=d.data:\n",
    "            result[i]=d.data\n",
    "            prev=d.data\n",
    "            d.freq-=1\n",
    "            if d.freq>0:\n",
    "                heapArr.insert(0,d)\n",
    "                heapify(heapArr,0)\n",
    "        else:\n",
    "            if not len(heapArr):\n",
    "                return \"Not Possible\"\n",
    "            x=heapArr.pop(0)\n",
    "            result[i]=x.data\n",
    "            prev=x.data\n",
    "            x.freq-=1\n",
    "            if x.freq>0:\n",
    "                heapArr.insert(0,x)\n",
    "            heapArr.insert(0,d)\n",
    "            heapify(heapArr,0)\n",
    "\n",
    "    # print(result)\n",
    "    return \"\".join(result)\n",
    "\n",
    "\n",
    "if __name__ == '__main__':\n",
    "    strValue=\"aaabc\"\n",
    "    # strValue=\"aaabb\"\n",
    "    # strValue=\"aaaabc\"\n",
    "    print(rearrangeString(strValue))\n"
   ]
  },
  {
   "cell_type": "markdown",
   "metadata": {},
   "source": [
    "Same approach used in Smallest Derangement of a sequence"
   ]
  },
  {
   "cell_type": "markdown",
   "metadata": {},
   "source": [
    "Time Complexity-> O(nlogd)"
   ]
  },
  {
   "cell_type": "markdown",
   "metadata": {},
   "source": [
    "# Array Representation Of Binary Heap"
   ]
  },
  {
   "cell_type": "markdown",
   "metadata": {},
   "source": [
    "Discussed"
   ]
  },
  {
   "cell_type": "markdown",
   "metadata": {},
   "source": [
    "# Sum of all elements between k1’th and k2’th smallest elements"
   ]
  },
  {
   "cell_type": "markdown",
   "metadata": {},
   "source": [
    "Approach-> Maintain a min heap, extract k1 elements, then extract k2-k1-1 elements (make sum of these elements)"
   ]
  },
  {
   "cell_type": "markdown",
   "metadata": {},
   "source": [
    "# Minimum sum of two numbers formed from digits of an array"
   ]
  },
  {
   "cell_type": "markdown",
   "metadata": {},
   "source": [
    "Approach 1-> Sort the array, and form two numbers with alternate indices"
   ]
  },
  {
   "cell_type": "markdown",
   "metadata": {},
   "source": [
    "Time Complexity -> O(nlogn)"
   ]
  },
  {
   "cell_type": "markdown",
   "metadata": {},
   "source": [
    "Approach 2-> Maintain a min heap and alternately form a number by popping out the elements"
   ]
  },
  {
   "cell_type": "code",
   "execution_count": 7,
   "metadata": {},
   "outputs": [
    {
     "name": "stdout",
     "output_type": "stream",
     "text": [
      "82\n"
     ]
    }
   ],
   "source": [
    "from heapq import heapify,heappop\n",
    "\n",
    "def getMinSum(arr):\n",
    "    num1=0\n",
    "    num2=0\n",
    "    heapify(arr)\n",
    "    flag=True\n",
    "    while len(arr):\n",
    "        if flag:\n",
    "            x=heappop(arr)\n",
    "            num1=num1*10+x\n",
    "        else:\n",
    "            x=heappop(arr)\n",
    "            num2=num2*10+x\n",
    "        flag=not flag\n",
    "\n",
    "    return num1+num2\n",
    "\n",
    "if __name__ == '__main__':\n",
    "    # arr=[6, 8, 4, 5, 2, 3]\n",
    "    arr=[5, 3, 0, 7, 4]\n",
    "    result=getMinSum(arr)\n",
    "    print(result)\n"
   ]
  },
  {
   "cell_type": "markdown",
   "metadata": {},
   "source": [
    "# K’th largest element in a stream"
   ]
  },
  {
   "cell_type": "code",
   "execution_count": 8,
   "metadata": {},
   "outputs": [
    {
     "name": "stdout",
     "output_type": "stream",
     "text": [
      "Enter number or enter 9999 to quit\n",
      "10\n",
      "_\n",
      "Enter number or enter 9999 to quit\n",
      "20\n",
      "_\n",
      "Enter number or enter 9999 to quit\n",
      "11\n",
      "10\n",
      "Enter number or enter 9999 to quit\n",
      "70\n",
      "11\n",
      "Enter number or enter 9999 to quit\n",
      "50\n",
      "20\n",
      "Enter number or enter 9999 to quit\n",
      "40\n",
      "40\n",
      "Enter number or enter 9999 to quit\n",
      "100\n",
      "50\n",
      "Enter number or enter 9999 to quit\n",
      "5\n",
      "50\n",
      "Enter number or enter 9999 to quit\n",
      "9999\n"
     ]
    }
   ],
   "source": [
    "from heapq import heapify\n",
    "\n",
    "def getKLargest(k):\n",
    "    count=1\n",
    "    heapArr=[]\n",
    "    heapify(heapArr)\n",
    "    while True:\n",
    "        num=int(input('Enter number or enter 9999 to quit\\n'))\n",
    "        if num==9999:\n",
    "            break\n",
    "        if count<=k:\n",
    "            if count<k:\n",
    "                print('_',end=\"\\n\")\n",
    "            heapArr.append(num)\n",
    "            heapify(heapArr)\n",
    "            if count==k:\n",
    "                print(heapArr[0])\n",
    "        else:\n",
    "            if num>heapArr[0]:\n",
    "                heapArr[0]=num\n",
    "                heapify(heapArr)\n",
    "            print(heapArr[0],end='\\n')\n",
    "        count+=1\n",
    "\n",
    "if __name__ == '__main__':\n",
    "    k=3\n",
    "    getKLargest(k)\n"
   ]
  },
  {
   "cell_type": "markdown",
   "metadata": {},
   "source": [
    "Another Approach-> A Simple Solution is to keep an array of size k. The idea is to keep the array sorted so that the k’th largest element can be found in O(1) time (we just need to return first element of array if array is sorted in increasing order)\n",
    "How to process a new element of stream?\n",
    "For every new element in stream, check if the new element is smaller than current k’th largest element. If yes, then ignore it. If no, then remove the smallest element from array and insert new element in sorted order. Time complexity of processing a new element is O(k)."
   ]
  },
  {
   "cell_type": "markdown",
   "metadata": {},
   "source": [
    "Another Approach-> A Better Solution is to use a Self Balancing Binary Search Tree of size k. The k’th largest element can be found in O(Logk) time.\n",
    "How to process a new element of stream?\n",
    "For every new element in stream, check if the new element is smaller than current k’th largest element. If yes, then ignore it. If no, then remove the smallest element from the tree and insert new element. Time complexity of processing a new element is O(Logk)."
   ]
  },
  {
   "cell_type": "markdown",
   "metadata": {},
   "source": [
    "Time Complexity for finding the element-> logk"
   ]
  },
  {
   "cell_type": "code",
   "execution_count": null,
   "metadata": {},
   "outputs": [],
   "source": []
  }
 ],
 "metadata": {
  "kernelspec": {
   "display_name": "Python 3",
   "language": "python",
   "name": "python3"
  },
  "language_info": {
   "codemirror_mode": {
    "name": "ipython",
    "version": 3
   },
   "file_extension": ".py",
   "mimetype": "text/x-python",
   "name": "python",
   "nbconvert_exporter": "python",
   "pygments_lexer": "ipython3",
   "version": "3.7.6"
  }
 },
 "nbformat": 4,
 "nbformat_minor": 4
}
