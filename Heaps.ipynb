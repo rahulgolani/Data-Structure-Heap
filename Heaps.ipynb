{
 "cells": [
  {
   "cell_type": "markdown",
   "metadata": {},
   "source": [
    "# Heaps"
   ]
  },
  {
   "cell_type": "markdown",
   "metadata": {},
   "source": [
    "Heaps are useful in optimizing the insert, find min and delete min operations"
   ]
  },
  {
   "cell_type": "markdown",
   "metadata": {},
   "source": [
    "Heaps can be implemented as a binary tree"
   ]
  },
  {
   "cell_type": "markdown",
   "metadata": {},
   "source": [
    "Binary heaps are complete binary trees where each node has 2 child nodes and all the leaf nodes are as left as possible"
   ]
  },
  {
   "cell_type": "markdown",
   "metadata": {},
   "source": [
    "# Array Representation of a heap"
   ]
  },
  {
   "cell_type": "markdown",
   "metadata": {},
   "source": [
    "Heap can be represented as a array, where parent can be at ith index, its left child can be at 2*i +1 th index and its right child can be at 2*i +2 th index"
   ]
  },
  {
   "cell_type": "markdown",
   "metadata": {},
   "source": [
    "To get the parent node of any node, floor(i-1/2), will give the parent node"
   ]
  },
  {
   "cell_type": "markdown",
   "metadata": {},
   "source": [
    "Reason why complete binary tree is recommended is because otherwise we might end up an array with gaps"
   ]
  },
  {
   "cell_type": "markdown",
   "metadata": {},
   "source": [
    "# Properties of Complete Binary Tree"
   ]
  },
  {
   "cell_type": "markdown",
   "metadata": {},
   "source": [
    "<strong>Height of a node</strong> = Number of edges from a particular node to the longest possible leaf"
   ]
  },
  {
   "cell_type": "markdown",
   "metadata": {},
   "source": [
    "<strong>Height of a Tree</strong> = Height of the root node"
   ]
  },
  {
   "cell_type": "markdown",
   "metadata": {},
   "source": [
    "<strong>Given height of a tree, max number of nodes </strong> = 2<sup>h+1</sup>-1"
   ]
  },
  {
   "cell_type": "markdown",
   "metadata": {},
   "source": [
    "<strong>Given n nodes, minimum height of a tree</strong> = floor(log<sub>2</sub>n)"
   ]
  },
  {
   "cell_type": "markdown",
   "metadata": {},
   "source": [
    "# Build a heap"
   ]
  },
  {
   "cell_type": "markdown",
   "metadata": {},
   "source": [
    "One way is to sort the array in descending order(max heap), time for this will be nlogn"
   ]
  },
  {
   "cell_type": "markdown",
   "metadata": {},
   "source": [
    "Another Property of a complete binary tree is, The leaves start from floor(n/2) till n [with n being the size of the binary tree]. We are interested in finding the leaves because every leaf is a tree with 1 node. Each tree with 1 node is already a heap with either min heap property or max heap property"
   ]
  },
  {
   "cell_type": "markdown",
   "metadata": {},
   "source": [
    "Leaves are already a heap so we need to take the largest index which is a non leaf and start heapifying it"
   ]
  },
  {
   "cell_type": "code",
   "execution_count": 3,
   "metadata": {},
   "outputs": [
    {
     "name": "stdout",
     "output_type": "stream",
     "text": [
      "[12, 11, 10, 9, 5, 1, 3, 2]\n"
     ]
    }
   ],
   "source": [
    "#Building a maxheap using the array\n",
    "from math import floor\n",
    "\n",
    "def maxHeapify(arr,i):\n",
    "    heapsize=len(arr)\n",
    "    l=2*i+1\n",
    "    r=2*i+2\n",
    "    if l<heapsize and arr[i]<arr[l]:\n",
    "        largest=l\n",
    "    else:\n",
    "        largest=i\n",
    "    if r<heapsize and arr[r]>arr[largest]:\n",
    "        largest=r\n",
    "    if largest!=i:\n",
    "        arr[i],arr[largest]=arr[largest],arr[i]\n",
    "        maxHeapify(arr,largest)\n",
    "\n",
    "def buildHeap(arr,n):\n",
    "    for i in range(floor(n//2)-1,-1,-1):\n",
    "        maxHeapify(arr,i)\n",
    "\n",
    "if __name__ == '__main__':\n",
    "    arr=[9,5,10,11,12,1,3,2]\n",
    "    buildHeap(arr,len(arr))\n",
    "    print(arr)\n"
   ]
  },
  {
   "cell_type": "markdown",
   "metadata": {},
   "source": [
    "Space Complexity -> O(logn), (number of recursive calls made= number of levels (logn)), where n is the number of nodes in the subtree for which i is the root. So space complexity depends on where the maxHeapify is called"
   ]
  },
  {
   "cell_type": "markdown",
   "metadata": {},
   "source": [
    "Time Complexity-> O(n) (notes)"
   ]
  },
  {
   "cell_type": "markdown",
   "metadata": {},
   "source": [
    "Building a heap takes O(n) time and heapify takes O(logn) time"
   ]
  },
  {
   "cell_type": "markdown",
   "metadata": {},
   "source": [
    "<pre>\n",
    "Heaps can be of two types:\n",
    "\n",
    "<strong>Max-Heap:</strong> In a Max-Heap the key present at the root node must be greatest among the keys present at all of it’s children. The same property must be recursively true for all sub-trees in that Binary Tree.\n",
    "\n",
    "<strong>Min-Heap:</strong> In a Min-Heap the key present at the root node must be minimum among the keys present at all of it’s children. The same property must be recursively true for all sub-trees in that Binary Tree.\n",
    "</pre>"
   ]
  },
  {
   "cell_type": "markdown",
   "metadata": {},
   "source": [
    "The traversal method use to achieve Array representation is Level Order"
   ]
  },
  {
   "cell_type": "markdown",
   "metadata": {},
   "source": [
    "# Applications of Heaps:"
   ]
  },
  {
   "cell_type": "markdown",
   "metadata": {},
   "source": [
    "Heap Sort-> Uses binary heap to sort the array in O(nlogn) time"
   ]
  },
  {
   "cell_type": "markdown",
   "metadata": {},
   "source": [
    "Priority Queue: Priority queues can be efficiently implemented using Binary Heap because it supports insert(), delete() and extractmax(), decreaseKey() operations in O(logn) time. Binomoial Heap and Fibonacci Heap are variations of Binary Heap. These variations perform union also efficiently."
   ]
  },
  {
   "cell_type": "markdown",
   "metadata": {},
   "source": [
    "Graph Algorithms: The priority queues are especially used in Graph Algorithms like Dijkstra’s Shortest Path and Prim’s Minimum Spanning Tree."
   ]
  },
  {
   "cell_type": "markdown",
   "metadata": {},
   "source": [
    "Order Statistics"
   ]
  },
  {
   "cell_type": "markdown",
   "metadata": {},
   "source": [
    "# Operations on Min Heap:"
   ]
  },
  {
   "cell_type": "markdown",
   "metadata": {},
   "source": [
    "getMini(): It returns the root element of Min Heap. Time Complexity of this operation is O(1)."
   ]
  },
  {
   "cell_type": "markdown",
   "metadata": {},
   "source": [
    "extractMin(): Removes the minimum element from MinHeap. Time Complexity of this Operation is O(Logn) as this operation needs to maintain the heap property (by calling heapify()) after removing root."
   ]
  },
  {
   "cell_type": "markdown",
   "metadata": {},
   "source": [
    "decreaseKey(): Decreases value of key. The time complexity of this operation is O(Logn). If the decreases key value of a node is greater than the parent of the node, then we don’t need to do anything. Otherwise, we need to traverse up to fix the violated heap property."
   ]
  },
  {
   "cell_type": "markdown",
   "metadata": {},
   "source": [
    "insert(): Inserting a new key takes O(Logn) time. We add a new key at the end of the tree. IF new key is greater than its parent, then we don’t need to do anything. Otherwise, we need to traverse up to fix the violated heap property."
   ]
  },
  {
   "cell_type": "markdown",
   "metadata": {},
   "source": [
    "delete(): Deleting a key also takes O(Logn) time. We replace the key to be deleted with minum infinite by calling decreaseKey(). After decreaseKey(), the minus infinite value must reach root, so we call extractMin() to remove the key."
   ]
  },
  {
   "cell_type": "code",
   "execution_count": 5,
   "metadata": {},
   "outputs": [
    {
     "name": "stdout",
     "output_type": "stream",
     "text": [
      "[0, 1, 10, 9, 5]\n"
     ]
    }
   ],
   "source": [
    "from heapq import heapify,heappop,heappush\n",
    "\n",
    "class MinHeap:\n",
    "    def __init__(self):\n",
    "        self.heap=[]\n",
    "        heapify(self.heap)\n",
    "\n",
    "    def getMin(self):\n",
    "        return self.heap[0]\n",
    "\n",
    "    def insertKey(self,item):\n",
    "        heappush(self.heap,item)\n",
    "\n",
    "    def parent(self,i):\n",
    "        return (i-1)//2\n",
    "\n",
    "    def extractMin(self):\n",
    "        return heappop(self.heap)\n",
    "\n",
    "    def decreaseKey(self,i,newVal):\n",
    "        self.heap[i]=newVal\n",
    "        while (i!=0 and self.heap[self.parent(i)]>self.heap[i]):\n",
    "            parent=self.parent(i)\n",
    "            self.heap[i],self.heap[self.parent(i)]=(self.heap[self.parent(i)],self.heap[i])\n",
    "            i=parent\n",
    "        #heapify(self.heap)\n",
    "\n",
    "    def deleteKey(self,i):\n",
    "        self.decreaseKey(i,float('-infinity'))\n",
    "        #print(self.heap)\n",
    "        self.extractMin()\n",
    "\n",
    "if __name__ == '__main__':\n",
    "    heapObj=MinHeap()\n",
    "    heapObj.insertKey(1)\n",
    "    heapObj.insertKey(9)\n",
    "    heapObj.insertKey(10)\n",
    "    heapObj.insertKey(5)\n",
    "    heapObj.insertKey(200)\n",
    "    # print(heapObj.heap)\n",
    "    heapObj.decreaseKey(4,0)\n",
    "    # heapObj.deleteKey(2)\n",
    "    #print(heapObj.getMin())\n",
    "    #print(heapObj.heap)\n",
    "    print(heapObj.heap)\n"
   ]
  },
  {
   "cell_type": "markdown",
   "metadata": {},
   "source": [
    "# Binomial Heap"
   ]
  },
  {
   "cell_type": "markdown",
   "metadata": {},
   "source": [
    "The main application of Binary Heap is in implementing priority queue."
   ]
  },
  {
   "cell_type": "markdown",
   "metadata": {},
   "source": [
    "Binomial Heap is an extension of Binary Heap that provides faster union or merge operation together with other operations provided by Binary Heap."
   ]
  },
  {
   "cell_type": "markdown",
   "metadata": {},
   "source": [
    "A Binomial Heap is a collection of Binomial Trees"
   ]
  },
  {
   "cell_type": "markdown",
   "metadata": {},
   "source": [
    "<pre>\n",
    "What is a Binomial Tree?\n",
    "A Binomial Tree of order 0 has 1 node. A Binomial Tree of order k can be constructed by taking two binomial trees of order k-1 and making one as leftmost child or other.\n",
    "A Binomial Tree of order k has following properties.\n",
    "a) It has exactly 2^k nodes.\n",
    "b) It has depth as k.\n",
    "c) There are exactly kCi nodes at depth i for i = 0, 1, . . . , k.\n",
    "d) The root has degree k and children of root are themselves Binomial Trees with order k-1, k-2,.. 0 from left to right.\n",
    "</pre>"
   ]
  },
  {
   "cell_type": "markdown",
   "metadata": {},
   "source": [
    "<pre>\n",
    "k = 0 (Single Node)\n",
    "\n",
    " o\n",
    "\n",
    "k = 1 (2 nodes) \n",
    "[We take two k = 0 order Binomial Trees, and\n",
    "make one as child of other]\n",
    " o\n",
    "   \\\n",
    "     o\n",
    "\n",
    "k = 2 (4 nodes)\n",
    "[We take two k = 1 order Binomial Trees, and\n",
    "make one as child of other]\n",
    "   o\n",
    " /   \\\n",
    "o     o\n",
    "       \\\n",
    "        o\n",
    "\n",
    "k = 3 (8 nodes)\n",
    "[We take two k = 2 order Binomial Trees, and\n",
    "make one as child of other]\n",
    "    o   \n",
    " /  |  \\ \n",
    "o   o    o\n",
    "    |   /  \\\n",
    "    o  o    o\n",
    "             \\\n",
    "              o\n",
    "</pre>"
   ]
  },
  {
   "cell_type": "markdown",
   "metadata": {},
   "source": [
    "<strong>Binomial Heap</strong>"
   ]
  },
  {
   "cell_type": "markdown",
   "metadata": {},
   "source": [
    "A Binomial Heap is a set of Binomial Trees where each Binomial Tree follows Min Heap property. And there can be at most one Binomial Tree of any degree."
   ]
  },
  {
   "cell_type": "markdown",
   "metadata": {},
   "source": [
    "<pre>\n",
    "12------------10--------------------20\n",
    "             /  \\                 /  | \\\n",
    "           15    50             70  50  40\n",
    "           |                  / |    |     \n",
    "           30               80  85  65 \n",
    "                            |\n",
    "                           100\n",
    "A Binomial Heap with 13 nodes. It is a collection of 3 \n",
    "Binomial Trees of orders 0, 2 and 3 from left to right. \n",
    "</pre>"
   ]
  },
  {
   "cell_type": "markdown",
   "metadata": {},
   "source": [
    "<strong>Binary Representation of a number and Binomial Heaps</strong>\n",
    "\n",
    "A Binomial Heap with n nodes has the number of Binomial Trees equal to the number of set bits in the Binary representation of n. For example let n be 13, there 3 set bits in the binary representation of n (00001101), hence 3 Binomial Trees. We can also relate the degree of these Binomial Trees with positions of set bits. With this relation, we can conclude that there are O(Logn) Binomial Trees in a Binomial Heap with ‘n’ nodes."
   ]
  },
  {
   "cell_type": "markdown",
   "metadata": {},
   "source": [
    "<strong>Operations of Binomial Heap</strong>"
   ]
  },
  {
   "cell_type": "markdown",
   "metadata": {},
   "source": [
    "The main operation in Binomial Heap is union(), all other operations mainly use this operation. The union() operation is to combine two Binomial Heaps into one."
   ]
  },
  {
   "cell_type": "markdown",
   "metadata": {},
   "source": [
    "insert(H, k): Inserts a key ‘k’ to Binomial Heap ‘H’. This operation first creates a Binomial Heap with single key ‘k’, then calls union on H and the new Binomial heap."
   ]
  },
  {
   "cell_type": "markdown",
   "metadata": {},
   "source": [
    "getMin(H): A simple way to getMin() is to traverse the list of root of Binomial Trees and return the minimum key. This implementation requires O(Logn) time(because there will be logn binomial trees for n nodes, so total logn nodes to be checked). It can be optimized to O(1) by maintaining a pointer to minimum key root."
   ]
  },
  {
   "cell_type": "markdown",
   "metadata": {},
   "source": [
    "extractMin(H): This operation also uses union(). We first call getMin() to find the minimum key Binomial Tree, then we remove the node and create a new Binomial Heap by connecting all subtrees of the removed minimum node. Finally, we call union() on H and the newly created Binomial Heap. This operation requires O(Logn) time."
   ]
  },
  {
   "cell_type": "markdown",
   "metadata": {},
   "source": [
    "delete(H): Like Binary Heap, delete operation first reduces the key to minus infinite, then calls extractMin()."
   ]
  },
  {
   "cell_type": "markdown",
   "metadata": {},
   "source": [
    "decreaseKey(H): decreaseKey() is also similar to Binary Heap. We compare the decreases key with it parent and if parent’s key is more, we swap keys and recur for the parent. We stop when we either reach a node whose parent has a smaller key or we hit the root node. Time complexity of decreaseKey() is O(Logn)."
   ]
  },
  {
   "cell_type": "markdown",
   "metadata": {},
   "source": [
    "<strong>Union operation in Binomial Heap</strong>"
   ]
  },
  {
   "cell_type": "markdown",
   "metadata": {},
   "source": [
    "<pre>\n",
    "Given two Binomial Heaps H1 and H2, union(H1, H2) creates a single Binomial Heap.\n",
    "\n",
    "1) The first step is to simply merge the two Heaps in non-decreasing order of degrees. In the following diagram, figure(b) shows the result after merging.\n",
    "\n",
    "2) After the simple merge, we need to make sure that there is at most one Binomial Tree of any order. To do this, we need to combine Binomial Trees of the same order. We traverse the list of merged roots, we keep track of three-pointers, prev, x and next-x. There can be following 4 cases when we traverse the list of roots.\n",
    "—–Case 1: Orders of x and next-x are not same, we simply move ahead.\n",
    "In following 3 cases orders of x and next-x are same.\n",
    "—–Case 2: If the order of next-next-x is also same, move ahead.\n",
    "—–Case 3: If the key of x is smaller than or equal to the key of next-x, then make next-x as a child of x by linking it with x.\n",
    "—–Case 4: If the key of x is greater, then make x as the child of next.\n",
    "</pre>"
   ]
  },
  {
   "cell_type": "markdown",
   "metadata": {},
   "source": [
    "![](https://media.geeksforgeeks.org/wp-content/uploads/Bionomial_tree_2.png)"
   ]
  },
  {
   "cell_type": "markdown",
   "metadata": {},
   "source": [
    "# Fibonacci Heap"
   ]
  },
  {
   "cell_type": "markdown",
   "metadata": {},
   "source": [
    "In terms of Time Complexity, Fibonacci Heap beats both Binary and Binomial Heaps."
   ]
  },
  {
   "cell_type": "markdown",
   "metadata": {},
   "source": [
    "<pre>\n",
    "1) Find Min:      Θ(1)     [Same as both Binary and Binomial]\n",
    "2) Delete Min:    O(Log n) [Θ(Log n) in both Binary and Binomial]\n",
    "3) Insert:        Θ(1)     [Θ(Log n) in Binary and Θ(1) in Binomial]\n",
    "4) Decrease-Key:  Θ(1)     [Θ(Log n) in both Binary and Binomial]\n",
    "5) Merge:         Θ(1)     [Θ(m Log n) or Θ(m+n) in Binary and\n",
    "                            Θ(Log n) in Binomial]\n",
    "</pre>"
   ]
  },
  {
   "cell_type": "markdown",
   "metadata": {},
   "source": [
    "Like Binomial Heap, Fibonacci Heap is a collection of trees with min-heap or max-heap property. In Fibonacci Heap, trees can can have any shape even all trees can be single nodes (This is unlike Binomial Heap where every tree has to be Binomial Tree)."
   ]
  },
  {
   "cell_type": "markdown",
   "metadata": {},
   "source": [
    "![](https://media.geeksforgeeks.org/wp-content/uploads/Fibonacci-Heap.png)"
   ]
  },
  {
   "cell_type": "markdown",
   "metadata": {},
   "source": [
    "Fibonacci Heap maintains a pointer to minimum value (which is root of a tree). All tree roots are connected using circular doubly linked list, so all of them can be accessed using single ‘min’ pointer."
   ]
  },
  {
   "cell_type": "markdown",
   "metadata": {},
   "source": [
    "<pre>\n",
    "Facts about Fibonacci Heap\n",
    "\n",
    "The reduced time complexity of Decrease-Key has importance in Dijkstra and Prim algorithms. With Binary Heap, time complexity of these algorithms is O(VLogV + ELogV). If Fibonacci Heap is used, then time complexity is improved to O(VLogV + E)\n",
    "\n",
    "Although Fibonacci Heap looks promising time complexity wise, it has been found slow in practice as hidden constants are high.\n",
    "\n",
    "Fibonacci heap are mainly called so because Fibonacci numbers are used in the running time analysis. Also, every node in Fibonacci Heap has degree at most O(log n) and the size of a subtree rooted in a node of degree k is at least Fk+2, where Fk is the kth Fibonacci number.\n",
    "</pre>"
   ]
  },
  {
   "cell_type": "markdown",
   "metadata": {},
   "source": [
    "# Leftist Tree / Leftist Heap"
   ]
  },
  {
   "cell_type": "markdown",
   "metadata": {},
   "source": [
    "# K-ary Heap"
   ]
  },
  {
   "cell_type": "markdown",
   "metadata": {},
   "source": [
    "# HeapSort"
   ]
  },
  {
   "cell_type": "code",
   "execution_count": 11,
   "metadata": {},
   "outputs": [
    {
     "name": "stdout",
     "output_type": "stream",
     "text": [
      "[5, 6, 7, 11, 12, 13]\n"
     ]
    }
   ],
   "source": [
    "from math import floor\n",
    "\n",
    "def maxHeapify(arr,n,i):\n",
    "    left=2*i+1\n",
    "    right=2*i+2\n",
    "    if left<n and arr[i]<arr[left]:\n",
    "        largest=left\n",
    "    else:\n",
    "        largest=i\n",
    "    if right<n and arr[right]>arr[largest]:\n",
    "        largest=right\n",
    "    if largest!=i:\n",
    "        arr[largest],arr[i]=arr[i],arr[largest]\n",
    "        maxHeapify(arr,n,largest)\n",
    "\n",
    "def buildMaxHeap(arr,n):\n",
    "    for i in range(floor(n//2)-1,-1,-1):\n",
    "        maxHeapify(arr,n,i)\n",
    "    # print(arr)\n",
    "\n",
    "def heapSort(arr):\n",
    "    n=len(arr)\n",
    "    buildMaxHeap(arr,n)\n",
    "    #get the largest element and store it at the end, now maxheapify the first replaced node with the updated heapsize\n",
    "    for i in range(n-1,-1,-1):\n",
    "        arr[0],arr[i]=arr[i],arr[0]\n",
    "        maxHeapify(arr,i,0)\n",
    "\n",
    "if __name__ == '__main__':\n",
    "    arr=[ 12, 11, 13, 5, 6, 7]\n",
    "    heapSort(arr)\n",
    "    print(arr)\n"
   ]
  },
  {
   "cell_type": "markdown",
   "metadata": {},
   "source": [
    "Heap sort is an in-place algorithm."
   ]
  },
  {
   "cell_type": "markdown",
   "metadata": {},
   "source": [
    "Time Complexity: Time complexity of heapify is O(Logn). Time complexity of createAndBuildHeap() is O(n) and overall time complexity of Heap Sort is O(nLogn)."
   ]
  },
  {
   "cell_type": "markdown",
   "metadata": {},
   "source": [
    "Not stable (check on this)"
   ]
  },
  {
   "cell_type": "markdown",
   "metadata": {},
   "source": [
    "# Iterative HeapSort"
   ]
  },
  {
   "cell_type": "markdown",
   "metadata": {},
   "source": [
    "HeapSort is a comparison based sorting technique where we first build Max Heap and then swaps the root element with last element (size times) and maintains the heap property each time to finally make it sorted."
   ]
  },
  {
   "cell_type": "code",
   "execution_count": 12,
   "metadata": {},
   "outputs": [
    {
     "name": "stdout",
     "output_type": "stream",
     "text": [
      "[9, 10, 15, 17, 20, 21]\n"
     ]
    }
   ],
   "source": [
    "def buildHeap(arr,n):\n",
    "    for i in range(n):\n",
    "        if arr[i]>arr[int((i-1)/2)]:\n",
    "            j=i\n",
    "            while arr[j]>arr[int((j-1)/2)]:\n",
    "                arr[j],arr[int((j-1)/2)]=arr[int((j-1)/2)],arr[j]\n",
    "                j=int((j-1)/2)\n",
    "\n",
    "def heapSort(arr,n):\n",
    "    buildHeap(arr,n)\n",
    "    # print(arr)\n",
    "    for i in range(n-1,0,-1):\n",
    "        arr[0],arr[i]=arr[i],arr[0]\n",
    "        j,index=0,0\n",
    "        while True:\n",
    "            index=2*j+1\n",
    "            # if left child is less than right child\n",
    "            if index<i-1 and arr[index]<arr[index+1]:\n",
    "                index+=1\n",
    "            # if parent is less than the child\n",
    "            if index<i and arr[index]>arr[j]:\n",
    "                arr[index],arr[j]=arr[j],arr[index]\n",
    "\n",
    "            j=index\n",
    "            if index>=i:\n",
    "                break\n",
    "\n",
    "if __name__ == '__main__':\n",
    "    arr=[10,20,15,17,9,21]\n",
    "    n=len(arr)\n",
    "    heapSort(arr,n)\n",
    "    print(arr)\n"
   ]
  },
  {
   "cell_type": "markdown",
   "metadata": {},
   "source": [
    "Time Complexity - O(nlogn)"
   ]
  },
  {
   "cell_type": "markdown",
   "metadata": {},
   "source": [
    "# K largest(or smallest) elements in an array"
   ]
  },
  {
   "cell_type": "markdown",
   "metadata": {},
   "source": [
    "Approach 1-> Use Max heap"
   ]
  },
  {
   "cell_type": "code",
   "execution_count": 13,
   "metadata": {},
   "outputs": [
    {
     "name": "stdout",
     "output_type": "stream",
     "text": [
      "50 30 23 "
     ]
    }
   ],
   "source": [
    "from heapq import _heapify_max, _heappop_max\n",
    "\n",
    "def getKLargest(arr,k):\n",
    "    n=len(arr)\n",
    "    _heapify_max(arr)\n",
    "    for i in range(k):\n",
    "        value=_heappop_max(arr)\n",
    "        print(value,end=\" \")\n",
    "\n",
    "if __name__ == '__main__':\n",
    "    arr=[1, 23, 12, 9, 30, 2, 50]\n",
    "    k=3\n",
    "    result=getKLargest(arr,k)\n"
   ]
  },
  {
   "cell_type": "markdown",
   "metadata": {},
   "source": [
    "Time Complexity -> O(n +klogn) (n times to build a maxeheap and k times you will have to maxheapify)"
   ]
  },
  {
   "cell_type": "markdown",
   "metadata": {},
   "source": [
    "Approach 2-> Use Min heap. Maintain a heap of size k, then for each element greater than the root of the heap, include that value as root of the heap and heapify"
   ]
  },
  {
   "cell_type": "code",
   "execution_count": 14,
   "metadata": {},
   "outputs": [
    {
     "name": "stdout",
     "output_type": "stream",
     "text": [
      "23 50 30\n"
     ]
    }
   ],
   "source": [
    "from heapq import heapify,heappop\n",
    "\n",
    "def getKLargest(arr,k):\n",
    "    heapArr=[]\n",
    "    for i in range(k):\n",
    "        heapArr.append(arr[i])\n",
    "    heapify(heapArr)\n",
    "    for i in range(k,len(arr)):\n",
    "        if arr[i]>heapArr[0]:\n",
    "            heapArr[0]=arr[i]\n",
    "            heapify(heapArr)\n",
    "    print(\" \".join(map(str,heapArr)))\n",
    "\n",
    "if __name__ == '__main__':\n",
    "    arr=[1, 23, 12, 9, 30, 2, 50]\n",
    "    k=3\n",
    "    result=getKLargest(arr,k)\n"
   ]
  },
  {
   "cell_type": "markdown",
   "metadata": {},
   "source": [
    "Time Complexity-> O(k+(n-k)logk) this does not give result in sorted order. If results are to be included in sorted manner than O(klogk) extra time is required"
   ]
  },
  {
   "cell_type": "markdown",
   "metadata": {},
   "source": [
    "# K’th Smallest/Largest Element in Unsorted Array"
   ]
  },
  {
   "cell_type": "code",
   "execution_count": 16,
   "metadata": {},
   "outputs": [
    {
     "name": "stdout",
     "output_type": "stream",
     "text": [
      "7\n"
     ]
    }
   ],
   "source": [
    "from heapq import heapify,heappop\n",
    "\n",
    "def getKSmallestElement(arr,k):\n",
    "    heapify(arr)\n",
    "    for i in range(k):\n",
    "        value=heappop(arr)\n",
    "\n",
    "    return value\n",
    "\n",
    "if __name__ == '__main__':\n",
    "    arr=[7, 10, 4, 3, 20, 15]\n",
    "    k=3\n",
    "    result=getKSmallestElement(arr,k)\n",
    "    print(result)\n"
   ]
  },
  {
   "cell_type": "markdown",
   "metadata": {},
   "source": [
    "Time Complexity -> O(n +klogn)"
   ]
  },
  {
   "cell_type": "markdown",
   "metadata": {},
   "source": [
    "Another Approach -> Using max heap"
   ]
  },
  {
   "cell_type": "code",
   "execution_count": 17,
   "metadata": {},
   "outputs": [
    {
     "name": "stdout",
     "output_type": "stream",
     "text": [
      "7\n"
     ]
    }
   ],
   "source": [
    "from heapq import _heapify_max, _heappop_max\n",
    "\n",
    "def getKSmallestElement(arr,k):\n",
    "\n",
    "    heapArr=[]\n",
    "    for i in range(k):\n",
    "        heapArr.append(arr[i])\n",
    "    _heapify_max(heapArr)\n",
    "\n",
    "    for i in range(k,len(arr)):\n",
    "        if arr[i]<heapArr[0]:\n",
    "            heapArr[0]=arr[i]\n",
    "            _heapify_max(heapArr)\n",
    "\n",
    "    return heapArr[0]\n",
    "\n",
    "\n",
    "if __name__ == '__main__':\n",
    "    arr=[7, 10, 4, 3, 20, 15]\n",
    "    k=3\n",
    "    result=getKSmallestElement(arr,k)\n",
    "    print(result)\n"
   ]
  },
  {
   "cell_type": "markdown",
   "metadata": {},
   "source": [
    "Time Complexity -> O(k + (n-k)logk)"
   ]
  },
  {
   "cell_type": "markdown",
   "metadata": {},
   "source": [
    "# Sort a nearly sorted (or K sorted) array"
   ]
  },
  {
   "cell_type": "markdown",
   "metadata": {},
   "source": [
    "Given an array of n elements, where each element is at most k away from its target position, devise an algorithm that sorts in O(n log k) time. For example, let us consider k is 2, an element at index 7 in the sorted array, can be at indexes 5, 6, 7, 8, 9 in the given array."
   ]
  },
  {
   "cell_type": "code",
   "execution_count": 18,
   "metadata": {},
   "outputs": [
    {
     "name": "stdout",
     "output_type": "stream",
     "text": [
      "[2, 3, 5, 6, 8, 9, 10]\n"
     ]
    }
   ],
   "source": [
    "from heapq import heapify,heappop,heappush\n",
    "\n",
    "def sortNearlySortedArray(arr,k):\n",
    "    heapArr=[]\n",
    "\n",
    "    # size k+1 because element is having its actual location atmost k positions away\n",
    "    for i in range(k+1):\n",
    "        heapArr.append(arr[i])\n",
    "\n",
    "    heapify(heapArr)\n",
    "\n",
    "    index=0\n",
    "    for i in range(k+1,len(arr)):\n",
    "        arr[index]=heappop(heapArr)\n",
    "        heappush(heapArr,arr[i])\n",
    "        index+=1\n",
    "\n",
    "    while heapArr:\n",
    "        arr[index]=heappop(heapArr)\n",
    "        index+=1\n",
    "\n",
    "if __name__ == '__main__':\n",
    "    arr=[6, 5, 3, 2, 8, 10, 9]\n",
    "    k=3\n",
    "    sortNearlySortedArray(arr,k)\n",
    "    print(arr)\n"
   ]
  },
  {
   "cell_type": "markdown",
   "metadata": {},
   "source": [
    "Time Complexity -> O(k +(n-k)logk)"
   ]
  },
  {
   "cell_type": "markdown",
   "metadata": {},
   "source": [
    "Another Approach-> Using insertion sort"
   ]
  },
  {
   "cell_type": "code",
   "execution_count": 19,
   "metadata": {},
   "outputs": [
    {
     "name": "stdout",
     "output_type": "stream",
     "text": [
      "[2, 3, 5, 6, 8, 9, 10]\n"
     ]
    }
   ],
   "source": [
    "def sortNearlySortedArray(arr,k):\n",
    "    for i in range(len(arr)):\n",
    "        j=i-1\n",
    "        key=arr[i]\n",
    "        # this will run atmost k times\n",
    "        while j>=0 and arr[j]>key:\n",
    "            arr[j+1]=arr[j]\n",
    "            j-=1\n",
    "        arr[j+1]=key\n",
    "\n",
    "\n",
    "if __name__ == '__main__':\n",
    "    arr=[6, 5, 3, 2, 8, 10, 9]\n",
    "    k=3\n",
    "    sortNearlySortedArray(arr,k)\n",
    "    print(arr)\n"
   ]
  },
  {
   "cell_type": "markdown",
   "metadata": {},
   "source": [
    "Time Complexity-> O(nk), the inner loop will run atmost k times and outer loop will run for n times"
   ]
  },
  {
   "cell_type": "markdown",
   "metadata": {},
   "source": [
    "We can also use a Balanced Binary Search Tree instead of Heap to store K+1 elements. The insert and delete operations on Balanced BST also take O(Logk) time. So Balanced BST based method will also take O(nLogk) time, but the Heap bassed method seems to be more efficient as the minimum element will always be at root. Also, Heap doesn’t need extra space for left and right pointers."
   ]
  },
  {
   "cell_type": "markdown",
   "metadata": {},
   "source": [
    "# Tournament Tree"
   ]
  },
  {
   "cell_type": "markdown",
   "metadata": {},
   "source": [
    "# Check if a given Binary Tree is Heap"
   ]
  },
  {
   "cell_type": "markdown",
   "metadata": {},
   "source": [
    "<pre>\n",
    "Given a binary tree, we need to check it has heap property or not, Binary tree need to fulfill the following two conditions for being a heap –\n",
    "\n",
    "It should be a complete tree (i.e. all levels except last should be full).\n",
    "Every node’s value should be greater than or equal to its child node (considering max-heap).\n",
    "</pre>"
   ]
  },
  {
   "cell_type": "code",
   "execution_count": 1,
   "metadata": {},
   "outputs": [
    {
     "name": "stdout",
     "output_type": "stream",
     "text": [
      "True\n"
     ]
    }
   ],
   "source": [
    "class Node:\n",
    "    def __init__(self,data):\n",
    "        self.data=data\n",
    "        self.left=None\n",
    "        self.right=None\n",
    "\n",
    "def isComplete(root,index,total):\n",
    "    if root is None:\n",
    "        return True\n",
    "    if index>=total:\n",
    "        return False\n",
    "    return isComplete(root.left,2*index+1,total) and isComplete(root.right,2*index+2,total)\n",
    "\n",
    "def countNodes(root):\n",
    "    if root is None:\n",
    "        return 0\n",
    "    return 1+countNodes(root.left)+countNodes(root.right)\n",
    "\n",
    "def doesSatisfyProperty(root):\n",
    "    if root.left is None and root.right is None:\n",
    "        return True\n",
    "    if root.right is None:\n",
    "        return root.data>root.left.data\n",
    "    else:\n",
    "        if root.data>root.left.data and root.data>root.right.data:\n",
    "            return doesSatisfyProperty(root.left) and doesSatisfyProperty(root.right)\n",
    "        else:\n",
    "            return False\n",
    "\n",
    "def isHeap(root):\n",
    "    if root is None:\n",
    "        return True\n",
    "    n=countNodes(root)\n",
    "    return isComplete(root,0,n) and doesSatisfyProperty(root)\n",
    "\n",
    "\n",
    "if __name__ == '__main__':\n",
    "    root = Node(5)\n",
    "    root.left = Node(2)\n",
    "    root.right = Node(3)\n",
    "    root.left.left = Node(1)\n",
    "    print(isHeap(root))\n"
   ]
  },
  {
   "cell_type": "markdown",
   "metadata": {},
   "source": [
    "Time Complexity ->O(n)"
   ]
  },
  {
   "cell_type": "code",
   "execution_count": null,
   "metadata": {},
   "outputs": [],
   "source": []
  }
 ],
 "metadata": {
  "kernelspec": {
   "display_name": "Python 3",
   "language": "python",
   "name": "python3"
  },
  "language_info": {
   "codemirror_mode": {
    "name": "ipython",
    "version": 3
   },
   "file_extension": ".py",
   "mimetype": "text/x-python",
   "name": "python",
   "nbconvert_exporter": "python",
   "pygments_lexer": "ipython3",
   "version": "3.7.6"
  }
 },
 "nbformat": 4,
 "nbformat_minor": 4
}
